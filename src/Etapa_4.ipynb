{
 "cells": [
  {
   "cell_type": "markdown",
   "metadata": {},
   "source": [
    "## Importar librerias y definición de la ruta  de trabajo (path)"
   ]
  },
  {
   "cell_type": "code",
   "execution_count": 58,
   "metadata": {},
   "outputs": [
    {
     "name": "stdout",
     "output_type": "stream",
     "text": [
      "\u001b[1m\u001b[38;5;208mVersión skforecast: 0.15.1\n",
      "\u001b[1m\u001b[38;5;208mVersión scikit-learn: 1.6.1\n",
      "\u001b[1m\u001b[38;5;208mVersión pandas: 2.2.3\n",
      "\u001b[1m\u001b[38;5;208mVersión numpy: 1.26.4\n"
     ]
    }
   ],
   "source": [
    "\n",
    "import pandas as pd\n",
    "import numpy as np\n",
    "import os\n",
    "from tabulate import tabulate\n",
    "import warnings\n",
    "warnings.filterwarnings('ignore')\n",
    "import matplotlib.pyplot as plt\n",
    "import seaborn as sns\n",
    "\n",
    "\n",
    "from sklearn.pipeline import Pipeline\n",
    "from sklearn.linear_model import LogisticRegression, Ridge, Lasso\n",
    "from sklearn.ensemble import RandomForestClassifier, GradientBoostingClassifier, RandomForestRegressor\n",
    "from sklearn.metrics import accuracy_score, f1_score\n",
    "from sklearn.preprocessing import StandardScaler, LabelEncoder, OneHotEncoder\n",
    "from sklearn.model_selection import cross_validate\n",
    "from sklearn.model_selection import ShuffleSplit\n",
    "from sklearn.compose import ColumnTransformer\n",
    "from sklearn.tree import DecisionTreeClassifier\n",
    "from sklearn.neighbors import KNeighborsClassifier\n",
    "from sklearn.svm import SVC\n",
    "\n",
    "%matplotlib inline\n",
    "\n",
    "# Tratamiento de datos\n",
    "# ==============================================================================\n",
    "import shap\n",
    "from skforecast.utils import load_forecaster\n",
    "from skforecast.utils import save_forecaster\n",
    "from skforecast.preprocessing import RollingFeatures\n",
    "from skforecast.model_selection import backtesting_forecaster\n",
    "from skforecast.model_selection import grid_search_forecaster\n",
    "from skforecast.model_selection import TimeSeriesFold\n",
    "from skforecast.direct import ForecasterDirect\n",
    "from skforecast.recursive import ForecasterRecursive\n",
    "import skforecast\n",
    "from sklearn.metrics import mean_absolute_error\n",
    "from sklearn.metrics import mean_squared_error\n",
    "import sklearn\n",
    "from skforecast.datasets import fetch_dataset\n",
    "\n",
    "# Gráficos\n",
    "# ==============================================================================\n",
    "import matplotlib.pyplot as plt\n",
    "plt.style.use('fivethirtyeight')\n",
    "plt.rcParams['lines.linewidth'] = 1.5\n",
    "plt.rcParams['font.size'] = 10\n",
    "\n",
    "# Modelado y Forecasting\n",
    "# ==============================================================================\n",
    "\n",
    "\n",
    "# Configuración warnings\n",
    "# ==============================================================================\n",
    "warnings.filterwarnings('once')\n",
    "\n",
    "color = '\\033[1m\\033[38;5;208m'\n",
    "print(f\"{color}Versión skforecast: {skforecast.__version__}\")\n",
    "print(f\"{color}Versión scikit-learn: {sklearn.__version__}\")\n",
    "print(f\"{color}Versión pandas: {pd.__version__}\")\n",
    "print(f\"{color}Versión numpy: {np.__version__}\")\n",
    "\n",
    "# Formato de los prints\n",
    "class color:\n",
    "   PURPLE = '\\033[95m'\n",
    "   CYAN = '\\033[96m'\n",
    "   DARKCYAN = '\\033[36m'\n",
    "   BLUE = '\\033[94m'\n",
    "   GREEN = '\\033[92m'\n",
    "   YELLOW = '\\033[93m'\n",
    "   RED = '\\033[91m'\n",
    "   BOLD = '\\033[1m'\n",
    "   UNDERLINE = '\\033[4m'\n",
    "   END = '\\033[0m'\n",
    "\n",
    "def headr(text):\n",
    "    return ('\\n'+color.UNDERLINE + text + color.END+'\\n')\n"
   ]
  },
  {
   "cell_type": "code",
   "execution_count": 2,
   "metadata": {},
   "outputs": [],
   "source": [
    "# Ingresa la ruta donde está el repositorio\n",
    "ruta = 'c:/repo_remoto/'"
   ]
  },
  {
   "cell_type": "markdown",
   "metadata": {},
   "source": [
    "## Integración"
   ]
  },
  {
   "cell_type": "markdown",
   "metadata": {},
   "source": [
    "### Carga de archivos"
   ]
  },
  {
   "cell_type": "code",
   "execution_count": null,
   "metadata": {},
   "outputs": [],
   "source": [
    "### Características Equipos\n",
    "\n",
    "equipos = pd.read_csv(ruta + 'etapa4/data/Caracteristicas_Equipos.csv')\n",
    "equipos_df = pd.DataFrame(equipos)\n",
    "### Historicos Ordenes\n",
    "\n",
    "ordenes = pd.read_csv(ruta + 'etapa4/data/Historicos_Ordenes.csv')\n",
    "ordenes_df = pd.DataFrame(ordenes)\n",
    "### Registros Condiciones\n",
    "\n",
    "condiciones = pd.read_csv(ruta + 'etapa4/data/Registros_Condiciones.csv')\n",
    "condiciones_df = pd.DataFrame(condiciones)"
   ]
  },
  {
   "cell_type": "markdown",
   "metadata": {},
   "source": [
    "### Tratar equipos_df"
   ]
  },
  {
   "cell_type": "code",
   "execution_count": null,
   "metadata": {},
   "outputs": [],
   "source": [
    "equipos_df"
   ]
  },
  {
   "cell_type": "code",
   "execution_count": null,
   "metadata": {},
   "outputs": [],
   "source": [
    "# Mostrar el número de filas duplicadas\n",
    "print(\"Número de filas duplicadas:\", equipos_df.duplicated().sum())\n",
    "\n",
    "# Mostrar todas las filas duplicadas considerando el índice como parte de los datos\n",
    "duplicados = equipos_df[equipos_df.duplicated(keep=False)]\n",
    "duplicados"
   ]
  },
  {
   "cell_type": "markdown",
   "metadata": {},
   "source": [
    "### Tratar ordenes_df"
   ]
  },
  {
   "cell_type": "code",
   "execution_count": null,
   "metadata": {},
   "outputs": [],
   "source": [
    "ordenes_df"
   ]
  },
  {
   "cell_type": "code",
   "execution_count": null,
   "metadata": {},
   "outputs": [],
   "source": [
    "# Elimino ID_Orden, establezco Fecha como índice y le doy formato datetime\n",
    "ordenes_df = ordenes_df.drop(columns=['ID_Orden']).set_index('Fecha')\n",
    "ordenes_df.index = pd.to_datetime(ordenes_df.index)"
   ]
  },
  {
   "cell_type": "code",
   "execution_count": null,
   "metadata": {},
   "outputs": [],
   "source": [
    "# Mostrar el número de filas duplicadas considerando el índice como parte de los datos\n",
    "print(\"Número de filas duplicadas (incluyendo índice como columna):\", ordenes_df.reset_index().duplicated(keep=False).sum())\n",
    "\n",
    "# Mostrar todas las filas duplicadas considerando el índice como parte de los datos\n",
    "duplicados = ordenes_df.reset_index()[ordenes_df.reset_index().duplicated(keep=False)]"
   ]
  },
  {
   "cell_type": "markdown",
   "metadata": {},
   "source": [
    "### Tratar condiciones_df"
   ]
  },
  {
   "cell_type": "code",
   "execution_count": null,
   "metadata": {},
   "outputs": [],
   "source": [
    "condiciones_df"
   ]
  },
  {
   "cell_type": "code",
   "execution_count": null,
   "metadata": {},
   "outputs": [],
   "source": [
    "# Elimino ID_Registro, establezco Fecha como índice y le doy formato datetime\n",
    "condiciones_df = condiciones_df.drop(columns=['ID_Registro']).set_index('Fecha')\n",
    "condiciones_df.index = pd.to_datetime(condiciones_df.index)"
   ]
  },
  {
   "cell_type": "code",
   "execution_count": null,
   "metadata": {},
   "outputs": [],
   "source": [
    "# Mostrar el número de filas duplicadas considerando el índice como parte de los datos\n",
    "print(\"Número de filas duplicadas (incluyendo índice como columna):\", condiciones_df.reset_index().duplicated(keep=False).sum())\n",
    "\n",
    "# Mostrar todas las filas duplicadas considerando el índice como parte de los datos\n",
    "duplicados = condiciones_df.reset_index()[condiciones_df.reset_index().duplicated(keep=False)]"
   ]
  },
  {
   "cell_type": "markdown",
   "metadata": {},
   "source": [
    "### Merge"
   ]
  },
  {
   "cell_type": "code",
   "execution_count": null,
   "metadata": {},
   "outputs": [],
   "source": [
    "# Asegurarse de que los índices sean de tipo datetime\n",
    "ordenes_df.index = pd.to_datetime(ordenes_df.index)\n",
    "condiciones_df.index = pd.to_datetime(condiciones_df.index)\n",
    "\n",
    "# Mezclar los DataFrames basándose en el índice (fechas) y la columna 'ID_Equipo'\n",
    "merged_df = pd.merge(\n",
    "    ordenes_df.reset_index(),  # Reseteamos el índice temporal para incluirlo como columna\n",
    "    condiciones_df.reset_index(),\n",
    "    on=['Fecha', 'ID_Equipo'],  # Mezclamos por la fecha y el ID_Equipo\n",
    "    how='outer'\n",
    ")\n",
    "\n",
    "# Volver a establecer 'Fecha' como índice\n",
    "merged_df.set_index('Fecha', inplace=True)\n",
    "\n",
    "# Mostrar el resultado\n",
    "print(merged_df.info())"
   ]
  },
  {
   "cell_type": "code",
   "execution_count": null,
   "metadata": {},
   "outputs": [],
   "source": [
    "# Relleno la columna Tipo_Mantenimiento vacías con Preventivo\n",
    "merged_df['Tipo_Mantenimiento'] = merged_df['Tipo_Mantenimiento'].fillna('Preventivo')"
   ]
  },
  {
   "cell_type": "code",
   "execution_count": null,
   "metadata": {},
   "outputs": [],
   "source": [
    "# Crear un diccionario con las ubicaciones conocidas por ID_Equipo\n",
    "ubicaciones_por_equipo = ordenes_df[['ID_Equipo', 'Ubicacion']].dropna().drop_duplicates().set_index('ID_Equipo')['Ubicacion'].to_dict()\n",
    "\n",
    "# Rellenar las filas vacías de Ubicacion en merged_df usando el diccionario\n",
    "merged_df['Ubicacion'] = merged_df.apply(\n",
    "    lambda row: ubicaciones_por_equipo.get(row['ID_Equipo'], row['Ubicacion']),\n",
    "    axis=1\n",
    ")\n",
    "\n",
    "# Verificar si quedan valores vacíos en la columna Ubicacion\n",
    "print(\"Valores vacíos restantes en 'Ubicacion':\", merged_df['Ubicacion'].isna().sum())"
   ]
  },
  {
   "cell_type": "code",
   "execution_count": null,
   "metadata": {},
   "outputs": [],
   "source": [
    "# Elimino columnas Costo_Mantenimiento y Duración_Horas\n",
    "merged_df = merged_df.drop(columns=['Costo_Mantenimiento', 'Duracion_Horas'])"
   ]
  },
  {
   "cell_type": "code",
   "execution_count": null,
   "metadata": {},
   "outputs": [],
   "source": [
    "# Combinar merged_df con equipos_df usando ID_Equipo como clave\n",
    "merged_df = pd.merge(\n",
    "    merged_df.reset_index(),  # Reseteamos el índice temporal para incluirlo como columna\n",
    "    equipos_df,               # Información de los equipos\n",
    "    on='ID_Equipo',           # Clave de unión\n",
    "    how='left'                # Unión izquierda para mantener todas las filas de merged_df\n",
    ")\n",
    "\n",
    "# Volver a establecer 'Fecha' como índice\n",
    "merged_df.set_index('Fecha', inplace=True)\n"
   ]
  },
  {
   "cell_type": "code",
   "execution_count": null,
   "metadata": {},
   "outputs": [],
   "source": [
    "# Mostrar el resultado\n",
    "merged_df"
   ]
  },
  {
   "cell_type": "code",
   "execution_count": null,
   "metadata": {},
   "outputs": [],
   "source": [
    "# #Extraer el DataFrame unido a un archivo CSV\n",
    "\n",
    "# merged_df = pd.DataFrame(merged_df)\n",
    "\n",
    "# merged_df.to_csv(ruta + 'etapa4/output/merge_df.csv', index=True)\n",
    "\n",
    "\n",
    "# print(\"El DataFrame merged_df se ha extraído a *.csv\")"
   ]
  },
  {
   "cell_type": "markdown",
   "metadata": {},
   "source": [
    "## Generar nuevas características"
   ]
  },
  {
   "cell_type": "markdown",
   "metadata": {},
   "source": [
    "### Añado Frecuencia_Correctivo"
   ]
  },
  {
   "cell_type": "code",
   "execution_count": null,
   "metadata": {},
   "outputs": [],
   "source": [
    "# Filtrar las filas donde Tipo_Mantenimiento es 'Correctivo'\n",
    "correctivo_counts = merged_df[merged_df['Tipo_Mantenimiento'] == 'Correctivo'].groupby('ID_Equipo').size()\n",
    "\n",
    "# Convertir a DataFrame y renombrar la columna\n",
    "correctivo_counts = correctivo_counts.reset_index(name='Frecuencia_Correctivo')\n",
    "\n",
    "# Añadir la columna al DataFrame merged_df\n",
    "merged_df = merged_df.merge(correctivo_counts, on='ID_Equipo', how='left')\n",
    "\n",
    "# Rellenar valores NaN con 0 (si algún ID_Equipo no tiene registros de 'Correctivo')\n",
    "merged_df['Frecuencia_Correctivo'] = merged_df['Frecuencia_Correctivo'].fillna(0)"
   ]
  },
  {
   "cell_type": "code",
   "execution_count": null,
   "metadata": {},
   "outputs": [],
   "source": [
    "merged_df"
   ]
  },
  {
   "cell_type": "code",
   "execution_count": null,
   "metadata": {},
   "outputs": [],
   "source": [
    "# Tratamiento sesgo\n",
    "\n",
    "merged_df[\"Frec_Correctivo\"] = merged_df.Frecuencia_Correctivo.apply(np.log1p)\n",
    "\n",
    "\n",
    "# Crear una comparación de gráficos\n",
    "fig, axs = plt.subplots(1, 2, figsize=(8, 4))\n",
    "sns.kdeplot(merged_df.Frecuencia_Correctivo, shade=True, ax=axs[0])\n",
    "sns.kdeplot(merged_df.Frec_Correctivo, shade=True, ax=axs[1])\n",
    "\n",
    "# Añadir títulos para mayor claridad\n",
    "axs[0].set_title('Frecuencia_Correctivo Original')\n",
    "axs[1].set_title('Frec_Correctivo Transformada con Log')\n",
    "\n",
    "plt.tight_layout()\n",
    "plt.show()\n",
    "\n",
    "# Eliminar la columna Frecuencia_Correctivo por Frec_Correctivo\n",
    "merged_df.drop(columns=[\"Frecuencia_Correctivo\"], inplace=True)"
   ]
  },
  {
   "cell_type": "markdown",
   "metadata": {},
   "source": [
    "### Añado Frecuencia_Preventivo"
   ]
  },
  {
   "cell_type": "code",
   "execution_count": null,
   "metadata": {},
   "outputs": [],
   "source": [
    "# Filtrar las filas donde Tipo_Mantenimiento es 'Preventivo'\n",
    "preventivo_counts = merged_df[merged_df['Tipo_Mantenimiento'] == 'Preventivo'].groupby('ID_Equipo').size()\n",
    "\n",
    "# Convertir a DataFrame y renombrar la columna\n",
    "preventivo_counts = preventivo_counts.reset_index(name='Frecuencia_Preventivo')\n",
    "\n",
    "# Añadir la columna al DataFrame merged_df\n",
    "merged_df = merged_df.merge(preventivo_counts, on='ID_Equipo', how='left')\n",
    "\n",
    "# Rellenar valores NaN con 0 (si algún ID_Equipo no tiene registros de 'Preventivo')\n",
    "merged_df['Frecuencia_Preventivo'] = merged_df['Frecuencia_Preventivo'].fillna(0)"
   ]
  },
  {
   "cell_type": "code",
   "execution_count": null,
   "metadata": {},
   "outputs": [],
   "source": [
    "merged_df"
   ]
  },
  {
   "cell_type": "code",
   "execution_count": null,
   "metadata": {},
   "outputs": [],
   "source": [
    "# Tratamiento sesgo\n",
    "\n",
    "merged_df[\"Frec_Preventivo\"] = merged_df.Frecuencia_Preventivo.apply(np.log1p)\n",
    "\n",
    "\n",
    "# Crear una comparación de gráficos\n",
    "fig, axs = plt.subplots(1, 2, figsize=(8, 4))\n",
    "sns.kdeplot(merged_df.Frecuencia_Preventivo, shade=True, ax=axs[0])\n",
    "sns.kdeplot(merged_df.Frec_Preventivo, shade=True, ax=axs[1])\n",
    "\n",
    "# Añadir títulos para mayor claridad\n",
    "axs[0].set_title('Frecuencia_Preventivo Original')\n",
    "axs[1].set_title('Frec_Preventivo Transformada con Log')\n",
    "\n",
    "plt.tight_layout()\n",
    "plt.show()\n",
    "\n",
    "# Eliminar la columna Frecuencia_Preventivo por Frec_Preventivo\n",
    "merged_df.drop(columns=[\"Frecuencia_Preventivo\"], inplace=True)"
   ]
  },
  {
   "cell_type": "markdown",
   "metadata": {},
   "source": [
    "### Añadir Frecuencia Ubicación"
   ]
  },
  {
   "cell_type": "code",
   "execution_count": null,
   "metadata": {},
   "outputs": [],
   "source": [
    "# Filtrar las filas donde Tipo_Mantenimiento es 'Correctivo'\n",
    "ubicacion_counts = merged_df[merged_df['Tipo_Mantenimiento'] == 'Correctivo'].groupby('Ubicacion').size()\n",
    "\n",
    "# Convertir a DataFrame y renombrar la columna\n",
    "ubicacion_counts = ubicacion_counts.reset_index(name='Frecuencia_Ubicacion')\n",
    "\n",
    "# Añadir la columna al DataFrame merged_df\n",
    "merged_df = merged_df.merge(ubicacion_counts, on='Ubicacion', how='left')\n",
    "\n",
    "# Rellenar valores NaN con 0 (si algún Ubicacion no tiene registros de 'Correctivo')\n",
    "merged_df['Frecuencia_Ubicacion'] = merged_df['Frecuencia_Ubicacion'].fillna(0)"
   ]
  },
  {
   "cell_type": "code",
   "execution_count": null,
   "metadata": {},
   "outputs": [],
   "source": [
    "merged_df"
   ]
  },
  {
   "cell_type": "markdown",
   "metadata": {},
   "source": [
    "### Añadir Frecuencia Potencia_kW"
   ]
  },
  {
   "cell_type": "code",
   "execution_count": null,
   "metadata": {},
   "outputs": [],
   "source": [
    "# Filtrar las filas donde Tipo_Mantenimiento es 'Correctivo'\n",
    "Potencia_kW_counts = merged_df[merged_df['Tipo_Mantenimiento'] == 'Correctivo'].groupby('Potencia_kW').size()\n",
    "\n",
    "# Convertir a DataFrame y renombrar la columna\n",
    "Potencia_kW_counts = Potencia_kW_counts.reset_index(name='Frecuencia_Potencia_kW')\n",
    "\n",
    "# Añadir la columna al DataFrame merged_df\n",
    "merged_df = merged_df.merge(Potencia_kW_counts, on='Potencia_kW', how='left')\n",
    "\n",
    "# Rellenar valores NaN con 0 (si algún Potencia_kW no tiene registros de 'Correctivo')\n",
    "merged_df['Frecuencia_Potencia_kW'] = merged_df['Frecuencia_Potencia_kW'].fillna(0)"
   ]
  },
  {
   "cell_type": "code",
   "execution_count": null,
   "metadata": {},
   "outputs": [],
   "source": [
    "merged_df"
   ]
  },
  {
   "cell_type": "code",
   "execution_count": null,
   "metadata": {},
   "outputs": [],
   "source": [
    "# Tratamiento sesgo\n",
    "\n",
    "merged_df[\"Frec_Potencia_kW\"] = merged_df.Frecuencia_Potencia_kW.apply(np.log1p)\n",
    "\n",
    "\n",
    "# Crear una comparación de gráficos\n",
    "fig, axs = plt.subplots(1, 2, figsize=(8, 4))\n",
    "sns.kdeplot(merged_df.Frecuencia_Potencia_kW, shade=True, ax=axs[0])\n",
    "sns.kdeplot(merged_df.Frec_Potencia_kW, shade=True, ax=axs[1])\n",
    "\n",
    "# Añadir títulos para mayor claridad\n",
    "axs[0].set_title('Frecuencia_Potencia_kW Original')\n",
    "axs[1].set_title('Frec_Potencia_kW Transformada con Log')\n",
    "\n",
    "plt.tight_layout()\n",
    "plt.show()\n",
    "\n",
    "# Eliminar la columna Frecuencia_Potencia_kW por Frec_Preventivo\n",
    "merged_df.drop(columns=[\"Frecuencia_Potencia_kW\"], inplace=True)"
   ]
  },
  {
   "cell_type": "markdown",
   "metadata": {},
   "source": [
    "### Almacenamiento"
   ]
  },
  {
   "cell_type": "code",
   "execution_count": null,
   "metadata": {},
   "outputs": [],
   "source": [
    "# Extraer el DataFrame a un archivo CSV\n",
    "\n",
    "merged_df.to_csv(ruta + 'etapa3/output/Mantenimiento.csv', index=False)\n",
    "\n",
    "\n",
    "print(\"El DataFrame merged_df se ha extraído a *.csv\")"
   ]
  },
  {
   "cell_type": "markdown",
   "metadata": {},
   "source": [
    "## Analisis y exportación Profiling"
   ]
  },
  {
   "cell_type": "code",
   "execution_count": null,
   "metadata": {},
   "outputs": [],
   "source": [
    "merged_df = pd.read_csv(ruta + 'Etapa4/output/merge_df.csv')"
   ]
  },
  {
   "cell_type": "code",
   "execution_count": null,
   "metadata": {},
   "outputs": [],
   "source": [
    "from ydata_profiling import ProfileReport\n",
    "profile = ProfileReport(merged_df, title=\"Mantenimiento Profiling Report\")"
   ]
  },
  {
   "cell_type": "code",
   "execution_count": null,
   "metadata": {},
   "outputs": [],
   "source": [
    "profile.to_notebook_iframe()"
   ]
  },
  {
   "cell_type": "code",
   "execution_count": null,
   "metadata": {},
   "outputs": [],
   "source": [
    "profile.to_file(ruta + 'Etapa4/output/Mantenimiento.html')"
   ]
  },
  {
   "cell_type": "markdown",
   "metadata": {},
   "source": [
    "## Preprocesado"
   ]
  },
  {
   "cell_type": "code",
   "execution_count": 7,
   "metadata": {},
   "outputs": [],
   "source": [
    "mantenimiento_df = pd.read_csv(ruta + 'Etapa4/output/merge_df.csv')"
   ]
  },
  {
   "cell_type": "code",
   "execution_count": 8,
   "metadata": {},
   "outputs": [
    {
     "data": {
      "application/vnd.microsoft.datawrangler.viewer.v0+json": {
       "columns": [
        {
         "name": "index",
         "rawType": "int64",
         "type": "integer"
        },
        {
         "name": "Fecha",
         "rawType": "object",
         "type": "string"
        },
        {
         "name": "ID_Equipo",
         "rawType": "int64",
         "type": "integer"
        },
        {
         "name": "Tipo_Mantenimiento",
         "rawType": "object",
         "type": "string"
        },
        {
         "name": "Ubicacion",
         "rawType": "object",
         "type": "string"
        },
        {
         "name": "Temperatura_C",
         "rawType": "float64",
         "type": "float"
        },
        {
         "name": "Vibracion_mm_s",
         "rawType": "float64",
         "type": "float"
        },
        {
         "name": "Horas_Operativas",
         "rawType": "int64",
         "type": "integer"
        },
        {
         "name": "Tipo_Equipo",
         "rawType": "object",
         "type": "string"
        },
        {
         "name": "Fabricante",
         "rawType": "object",
         "type": "string"
        },
        {
         "name": "Modelo",
         "rawType": "object",
         "type": "string"
        },
        {
         "name": "Potencia_kW",
         "rawType": "int64",
         "type": "integer"
        },
        {
         "name": "Horas_Recomendadas_Revision",
         "rawType": "int64",
         "type": "integer"
        }
       ],
       "conversionMethod": "pd.DataFrame",
       "ref": "ae3eb777-c8db-4cb2-93aa-bb0eedb092dd",
       "rows": [
        [
         "299",
         "2021-01-01",
         "300",
         "Preventivo",
         "Ubicacion_C",
         "66.7514621573433",
         "5.159466357711779",
         "628",
         "Compresor",
         "Fabricante_C",
         "Modelo_1",
         "369",
         "568"
        ],
        [
         "799",
         "2021-01-02",
         "300",
         "Preventivo",
         "Ubicacion_C",
         "52.01596010359609",
         "5.6122535476981685",
         "638",
         "Compresor",
         "Fabricante_C",
         "Modelo_1",
         "369",
         "568"
        ],
        [
         "1299",
         "2021-01-03",
         "300",
         "Preventivo",
         "Ubicacion_C",
         "32.92043259552254",
         "2.6922799077479564",
         "654",
         "Compresor",
         "Fabricante_C",
         "Modelo_1",
         "369",
         "568"
        ],
        [
         "1799",
         "2021-01-04",
         "300",
         "Preventivo",
         "Ubicacion_C",
         "59.59104939589167",
         "0.6820166785949111",
         "672",
         "Compresor",
         "Fabricante_C",
         "Modelo_1",
         "369",
         "568"
        ],
        [
         "2299",
         "2021-01-05",
         "300",
         "Preventivo",
         "Ubicacion_C",
         "36.5570202244315",
         "5.380130798831635",
         "680",
         "Compresor",
         "Fabricante_C",
         "Modelo_1",
         "369",
         "568"
        ],
        [
         "2799",
         "2021-01-06",
         "300",
         "Preventivo",
         "Ubicacion_C",
         "97.85805077992065",
         "7.709939279860453",
         "691",
         "Compresor",
         "Fabricante_C",
         "Modelo_1",
         "369",
         "568"
        ],
        [
         "3299",
         "2021-01-07",
         "300",
         "Preventivo",
         "Ubicacion_C",
         "89.11541842478624",
         "9.894360426656243",
         "691",
         "Compresor",
         "Fabricante_C",
         "Modelo_1",
         "369",
         "568"
        ],
        [
         "3799",
         "2021-01-08",
         "300",
         "Preventivo",
         "Ubicacion_C",
         "35.689524211591426",
         "2.3814211892567547",
         "710",
         "Compresor",
         "Fabricante_C",
         "Modelo_1",
         "369",
         "568"
        ],
        [
         "4299",
         "2021-01-09",
         "300",
         "Preventivo",
         "Ubicacion_C",
         "39.56325691557687",
         "1.7055483894661685",
         "714",
         "Compresor",
         "Fabricante_C",
         "Modelo_1",
         "369",
         "568"
        ],
        [
         "4799",
         "2021-01-10",
         "300",
         "Preventivo",
         "Ubicacion_C",
         "97.83345162934252",
         "7.663022504830673",
         "732",
         "Compresor",
         "Fabricante_C",
         "Modelo_1",
         "369",
         "568"
        ],
        [
         "5299",
         "2021-01-11",
         "300",
         "Preventivo",
         "Ubicacion_C",
         "71.90673796835267",
         "3.661003909271071",
         "743",
         "Compresor",
         "Fabricante_C",
         "Modelo_1",
         "369",
         "568"
        ],
        [
         "5799",
         "2021-01-12",
         "300",
         "Preventivo",
         "Ubicacion_C",
         "41.85296295657893",
         "6.533661804094218",
         "748",
         "Compresor",
         "Fabricante_C",
         "Modelo_1",
         "369",
         "568"
        ],
        [
         "6299",
         "2021-01-13",
         "300",
         "Preventivo",
         "Ubicacion_C",
         "47.27410003525931",
         "4.1278343887063205",
         "756",
         "Compresor",
         "Fabricante_C",
         "Modelo_1",
         "369",
         "568"
        ],
        [
         "6799",
         "2021-01-14",
         "300",
         "Preventivo",
         "Ubicacion_C",
         "67.06509942777475",
         "4.911767114589058",
         "762",
         "Compresor",
         "Fabricante_C",
         "Modelo_1",
         "369",
         "568"
        ],
        [
         "7299",
         "2021-01-15",
         "300",
         "Preventivo",
         "Ubicacion_C",
         "25.02254972222224",
         "7.91149191816495",
         "762",
         "Compresor",
         "Fabricante_C",
         "Modelo_1",
         "369",
         "568"
        ],
        [
         "7799",
         "2021-01-16",
         "300",
         "Preventivo",
         "Ubicacion_C",
         "47.31232005013611",
         "1.2690322436027224",
         "779",
         "Compresor",
         "Fabricante_C",
         "Modelo_1",
         "369",
         "568"
        ],
        [
         "8299",
         "2021-01-17",
         "300",
         "Preventivo",
         "Ubicacion_C",
         "54.92347277932688",
         "9.896648208671897",
         "796",
         "Compresor",
         "Fabricante_C",
         "Modelo_1",
         "369",
         "568"
        ],
        [
         "8799",
         "2021-01-18",
         "300",
         "Correctivo",
         "Ubicacion_C",
         "77.60778196476348",
         "8.197899631640604",
         "22",
         "Compresor",
         "Fabricante_C",
         "Modelo_1",
         "369",
         "568"
        ],
        [
         "9299",
         "2021-01-19",
         "300",
         "Preventivo",
         "Ubicacion_C",
         "24.34176993336632",
         "9.672783362028031",
         "36",
         "Compresor",
         "Fabricante_C",
         "Modelo_1",
         "369",
         "568"
        ],
        [
         "9800",
         "2021-01-20",
         "300",
         "Preventivo",
         "Ubicacion_C",
         "39.705119565418215",
         "9.787056002698565",
         "49",
         "Compresor",
         "Fabricante_C",
         "Modelo_1",
         "369",
         "568"
        ],
        [
         "10301",
         "2021-01-21",
         "300",
         "Preventivo",
         "Ubicacion_C",
         "29.5709094703441",
         "5.026711064006547",
         "55",
         "Compresor",
         "Fabricante_C",
         "Modelo_1",
         "369",
         "568"
        ],
        [
         "10801",
         "2021-01-22",
         "300",
         "Preventivo",
         "Ubicacion_C",
         "29.486865852350324",
         "3.3373607957680607",
         "56",
         "Compresor",
         "Fabricante_C",
         "Modelo_1",
         "369",
         "568"
        ],
        [
         "11302",
         "2021-01-23",
         "300",
         "Preventivo",
         "Ubicacion_C",
         "64.62206741028878",
         "0.4279623584446923",
         "76",
         "Compresor",
         "Fabricante_C",
         "Modelo_1",
         "369",
         "568"
        ],
        [
         "11804",
         "2021-01-24",
         "300",
         "Preventivo",
         "Ubicacion_C",
         "79.02212832205385",
         "4.9074514966657965",
         "84",
         "Compresor",
         "Fabricante_C",
         "Modelo_1",
         "369",
         "568"
        ],
        [
         "12304",
         "2021-01-25",
         "300",
         "Preventivo",
         "Ubicacion_C",
         "55.362102958361",
         "8.260256519131934",
         "87",
         "Compresor",
         "Fabricante_C",
         "Modelo_1",
         "369",
         "568"
        ],
        [
         "12805",
         "2021-01-26",
         "300",
         "Preventivo",
         "Ubicacion_C",
         "24.007454170482944",
         "3.3839047853023665",
         "89",
         "Compresor",
         "Fabricante_C",
         "Modelo_1",
         "369",
         "568"
        ],
        [
         "13307",
         "2021-01-27",
         "300",
         "Preventivo",
         "Ubicacion_C",
         "90.2160673934744",
         "3.568854047152077",
         "96",
         "Compresor",
         "Fabricante_C",
         "Modelo_1",
         "369",
         "568"
        ],
        [
         "13813",
         "2021-01-28",
         "300",
         "Preventivo",
         "Ubicacion_C",
         "76.12311156966567",
         "6.180437866659868",
         "115",
         "Compresor",
         "Fabricante_C",
         "Modelo_1",
         "369",
         "568"
        ],
        [
         "14314",
         "2021-01-29",
         "300",
         "Correctivo",
         "Ubicacion_C",
         "33.82878735224835",
         "6.659678782007066",
         "8",
         "Compresor",
         "Fabricante_C",
         "Modelo_1",
         "369",
         "568"
        ],
        [
         "14815",
         "2021-01-30",
         "300",
         "Preventivo",
         "Ubicacion_C",
         "63.63862057089072",
         "7.465714378683183",
         "21",
         "Compresor",
         "Fabricante_C",
         "Modelo_1",
         "369",
         "568"
        ],
        [
         "15315",
         "2021-01-31",
         "300",
         "Preventivo",
         "Ubicacion_C",
         "92.73070151168434",
         "8.429730810631007",
         "39",
         "Compresor",
         "Fabricante_C",
         "Modelo_1",
         "369",
         "568"
        ],
        [
         "15815",
         "2021-02-01",
         "300",
         "Preventivo",
         "Ubicacion_C",
         "88.5231526775038",
         "1.5217430385773956",
         "52",
         "Compresor",
         "Fabricante_C",
         "Modelo_1",
         "369",
         "568"
        ],
        [
         "16315",
         "2021-02-02",
         "300",
         "Preventivo",
         "Ubicacion_C",
         "66.4974340556909",
         "5.913900545551172",
         "66",
         "Compresor",
         "Fabricante_C",
         "Modelo_1",
         "369",
         "568"
        ],
        [
         "16816",
         "2021-02-03",
         "300",
         "Preventivo",
         "Ubicacion_C",
         "24.461288319268306",
         "8.708534036588755",
         "87",
         "Compresor",
         "Fabricante_C",
         "Modelo_1",
         "369",
         "568"
        ],
        [
         "17318",
         "2021-02-04",
         "300",
         "Preventivo",
         "Ubicacion_C",
         "31.749176688185425",
         "6.318576681421666",
         "92",
         "Compresor",
         "Fabricante_C",
         "Modelo_1",
         "369",
         "568"
        ],
        [
         "17819",
         "2021-02-05",
         "300",
         "Preventivo",
         "Ubicacion_C",
         "96.68157465151992",
         "3.8659990505448105",
         "95",
         "Compresor",
         "Fabricante_C",
         "Modelo_1",
         "369",
         "568"
        ],
        [
         "18319",
         "2021-02-06",
         "300",
         "Preventivo",
         "Ubicacion_C",
         "97.1709108801555",
         "6.540861133115133",
         "108",
         "Compresor",
         "Fabricante_C",
         "Modelo_1",
         "369",
         "568"
        ],
        [
         "18820",
         "2021-02-07",
         "300",
         "Preventivo",
         "Ubicacion_C",
         "21.20241736042197",
         "3.808315171744261",
         "118",
         "Compresor",
         "Fabricante_C",
         "Modelo_1",
         "369",
         "568"
        ],
        [
         "19321",
         "2021-02-08",
         "300",
         "Preventivo",
         "Ubicacion_C",
         "56.26566057602788",
         "7.620197554010249",
         "132",
         "Compresor",
         "Fabricante_C",
         "Modelo_1",
         "369",
         "568"
        ],
        [
         "19824",
         "2021-02-09",
         "300",
         "Preventivo",
         "Ubicacion_C",
         "71.27716222053292",
         "8.434269398005124",
         "139",
         "Compresor",
         "Fabricante_C",
         "Modelo_1",
         "369",
         "568"
        ],
        [
         "20325",
         "2021-02-10",
         "300",
         "Preventivo",
         "Ubicacion_C",
         "46.09529931178727",
         "8.91019876526096",
         "162",
         "Compresor",
         "Fabricante_C",
         "Modelo_1",
         "369",
         "568"
        ],
        [
         "20825",
         "2021-02-11",
         "300",
         "Preventivo",
         "Ubicacion_C",
         "88.13906323293325",
         "2.899396837709344",
         "165",
         "Compresor",
         "Fabricante_C",
         "Modelo_1",
         "369",
         "568"
        ],
        [
         "21325",
         "2021-02-12",
         "300",
         "Preventivo",
         "Ubicacion_C",
         "60.02886218435422",
         "5.647597469757662",
         "189",
         "Compresor",
         "Fabricante_C",
         "Modelo_1",
         "369",
         "568"
        ],
        [
         "21825",
         "2021-02-13",
         "300",
         "Preventivo",
         "Ubicacion_C",
         "26.04979660459284",
         "8.071759362144574",
         "213",
         "Compresor",
         "Fabricante_C",
         "Modelo_1",
         "369",
         "568"
        ],
        [
         "22328",
         "2021-02-14",
         "300",
         "Preventivo",
         "Ubicacion_C",
         "99.07179431087302",
         "3.834334071859744",
         "223",
         "Compresor",
         "Fabricante_C",
         "Modelo_1",
         "369",
         "568"
        ],
        [
         "22828",
         "2021-02-15",
         "300",
         "Preventivo",
         "Ubicacion_C",
         "35.85174667296371",
         "9.478185910727255",
         "243",
         "Compresor",
         "Fabricante_C",
         "Modelo_1",
         "369",
         "568"
        ],
        [
         "23328",
         "2021-02-16",
         "300",
         "Preventivo",
         "Ubicacion_C",
         "77.19781751141761",
         "7.078284999682128",
         "262",
         "Compresor",
         "Fabricante_C",
         "Modelo_1",
         "369",
         "568"
        ],
        [
         "23830",
         "2021-02-17",
         "300",
         "Correctivo",
         "Ubicacion_C",
         "92.4425345706246",
         "7.362733426045459",
         "12",
         "Compresor",
         "Fabricante_C",
         "Modelo_1",
         "369",
         "568"
        ],
        [
         "24332",
         "2021-02-18",
         "300",
         "Preventivo",
         "Ubicacion_C",
         "69.77332165266532",
         "1.4247579940636024",
         "35",
         "Compresor",
         "Fabricante_C",
         "Modelo_1",
         "369",
         "568"
        ],
        [
         "24834",
         "2021-02-19",
         "300",
         "Preventivo",
         "Ubicacion_C",
         "78.03976172895274",
         "5.896997602326501",
         "45",
         "Compresor",
         "Fabricante_C",
         "Modelo_1",
         "369",
         "568"
        ]
       ],
       "shape": {
        "columns": 12,
        "rows": 1463
       }
      },
      "text/html": [
       "<div>\n",
       "<style scoped>\n",
       "    .dataframe tbody tr th:only-of-type {\n",
       "        vertical-align: middle;\n",
       "    }\n",
       "\n",
       "    .dataframe tbody tr th {\n",
       "        vertical-align: top;\n",
       "    }\n",
       "\n",
       "    .dataframe thead th {\n",
       "        text-align: right;\n",
       "    }\n",
       "</style>\n",
       "<table border=\"1\" class=\"dataframe\">\n",
       "  <thead>\n",
       "    <tr style=\"text-align: right;\">\n",
       "      <th></th>\n",
       "      <th>Fecha</th>\n",
       "      <th>ID_Equipo</th>\n",
       "      <th>Tipo_Mantenimiento</th>\n",
       "      <th>Ubicacion</th>\n",
       "      <th>Temperatura_C</th>\n",
       "      <th>Vibracion_mm_s</th>\n",
       "      <th>Horas_Operativas</th>\n",
       "      <th>Tipo_Equipo</th>\n",
       "      <th>Fabricante</th>\n",
       "      <th>Modelo</th>\n",
       "      <th>Potencia_kW</th>\n",
       "      <th>Horas_Recomendadas_Revision</th>\n",
       "    </tr>\n",
       "  </thead>\n",
       "  <tbody>\n",
       "    <tr>\n",
       "      <th>299</th>\n",
       "      <td>2021-01-01</td>\n",
       "      <td>300</td>\n",
       "      <td>Preventivo</td>\n",
       "      <td>Ubicacion_C</td>\n",
       "      <td>66.751462</td>\n",
       "      <td>5.159466</td>\n",
       "      <td>628</td>\n",
       "      <td>Compresor</td>\n",
       "      <td>Fabricante_C</td>\n",
       "      <td>Modelo_1</td>\n",
       "      <td>369</td>\n",
       "      <td>568</td>\n",
       "    </tr>\n",
       "    <tr>\n",
       "      <th>799</th>\n",
       "      <td>2021-01-02</td>\n",
       "      <td>300</td>\n",
       "      <td>Preventivo</td>\n",
       "      <td>Ubicacion_C</td>\n",
       "      <td>52.015960</td>\n",
       "      <td>5.612254</td>\n",
       "      <td>638</td>\n",
       "      <td>Compresor</td>\n",
       "      <td>Fabricante_C</td>\n",
       "      <td>Modelo_1</td>\n",
       "      <td>369</td>\n",
       "      <td>568</td>\n",
       "    </tr>\n",
       "    <tr>\n",
       "      <th>1299</th>\n",
       "      <td>2021-01-03</td>\n",
       "      <td>300</td>\n",
       "      <td>Preventivo</td>\n",
       "      <td>Ubicacion_C</td>\n",
       "      <td>32.920433</td>\n",
       "      <td>2.692280</td>\n",
       "      <td>654</td>\n",
       "      <td>Compresor</td>\n",
       "      <td>Fabricante_C</td>\n",
       "      <td>Modelo_1</td>\n",
       "      <td>369</td>\n",
       "      <td>568</td>\n",
       "    </tr>\n",
       "    <tr>\n",
       "      <th>1799</th>\n",
       "      <td>2021-01-04</td>\n",
       "      <td>300</td>\n",
       "      <td>Preventivo</td>\n",
       "      <td>Ubicacion_C</td>\n",
       "      <td>59.591049</td>\n",
       "      <td>0.682017</td>\n",
       "      <td>672</td>\n",
       "      <td>Compresor</td>\n",
       "      <td>Fabricante_C</td>\n",
       "      <td>Modelo_1</td>\n",
       "      <td>369</td>\n",
       "      <td>568</td>\n",
       "    </tr>\n",
       "    <tr>\n",
       "      <th>2299</th>\n",
       "      <td>2021-01-05</td>\n",
       "      <td>300</td>\n",
       "      <td>Preventivo</td>\n",
       "      <td>Ubicacion_C</td>\n",
       "      <td>36.557020</td>\n",
       "      <td>5.380131</td>\n",
       "      <td>680</td>\n",
       "      <td>Compresor</td>\n",
       "      <td>Fabricante_C</td>\n",
       "      <td>Modelo_1</td>\n",
       "      <td>369</td>\n",
       "      <td>568</td>\n",
       "    </tr>\n",
       "    <tr>\n",
       "      <th>...</th>\n",
       "      <td>...</td>\n",
       "      <td>...</td>\n",
       "      <td>...</td>\n",
       "      <td>...</td>\n",
       "      <td>...</td>\n",
       "      <td>...</td>\n",
       "      <td>...</td>\n",
       "      <td>...</td>\n",
       "      <td>...</td>\n",
       "      <td>...</td>\n",
       "      <td>...</td>\n",
       "      <td>...</td>\n",
       "    </tr>\n",
       "    <tr>\n",
       "      <th>729546</th>\n",
       "      <td>2024-12-27</td>\n",
       "      <td>300</td>\n",
       "      <td>Correctivo</td>\n",
       "      <td>Ubicacion_C</td>\n",
       "      <td>46.747732</td>\n",
       "      <td>0.299322</td>\n",
       "      <td>22</td>\n",
       "      <td>Compresor</td>\n",
       "      <td>Fabricante_C</td>\n",
       "      <td>Modelo_1</td>\n",
       "      <td>369</td>\n",
       "      <td>568</td>\n",
       "    </tr>\n",
       "    <tr>\n",
       "      <th>730046</th>\n",
       "      <td>2024-12-28</td>\n",
       "      <td>300</td>\n",
       "      <td>Preventivo</td>\n",
       "      <td>Ubicacion_C</td>\n",
       "      <td>86.514565</td>\n",
       "      <td>1.161832</td>\n",
       "      <td>29</td>\n",
       "      <td>Compresor</td>\n",
       "      <td>Fabricante_C</td>\n",
       "      <td>Modelo_1</td>\n",
       "      <td>369</td>\n",
       "      <td>568</td>\n",
       "    </tr>\n",
       "    <tr>\n",
       "      <th>730546</th>\n",
       "      <td>2024-12-29</td>\n",
       "      <td>300</td>\n",
       "      <td>Correctivo</td>\n",
       "      <td>Ubicacion_C</td>\n",
       "      <td>35.849285</td>\n",
       "      <td>7.549357</td>\n",
       "      <td>23</td>\n",
       "      <td>Compresor</td>\n",
       "      <td>Fabricante_C</td>\n",
       "      <td>Modelo_1</td>\n",
       "      <td>369</td>\n",
       "      <td>568</td>\n",
       "    </tr>\n",
       "    <tr>\n",
       "      <th>731048</th>\n",
       "      <td>2024-12-30</td>\n",
       "      <td>300</td>\n",
       "      <td>Preventivo</td>\n",
       "      <td>Ubicacion_C</td>\n",
       "      <td>63.646322</td>\n",
       "      <td>4.029486</td>\n",
       "      <td>35</td>\n",
       "      <td>Compresor</td>\n",
       "      <td>Fabricante_C</td>\n",
       "      <td>Modelo_1</td>\n",
       "      <td>369</td>\n",
       "      <td>568</td>\n",
       "    </tr>\n",
       "    <tr>\n",
       "      <th>731548</th>\n",
       "      <td>2024-12-31</td>\n",
       "      <td>300</td>\n",
       "      <td>Preventivo</td>\n",
       "      <td>Ubicacion_C</td>\n",
       "      <td>44.328481</td>\n",
       "      <td>3.327696</td>\n",
       "      <td>46</td>\n",
       "      <td>Compresor</td>\n",
       "      <td>Fabricante_C</td>\n",
       "      <td>Modelo_1</td>\n",
       "      <td>369</td>\n",
       "      <td>568</td>\n",
       "    </tr>\n",
       "  </tbody>\n",
       "</table>\n",
       "<p>1463 rows × 12 columns</p>\n",
       "</div>"
      ],
      "text/plain": [
       "             Fecha  ID_Equipo Tipo_Mantenimiento    Ubicacion  Temperatura_C  \\\n",
       "299     2021-01-01        300         Preventivo  Ubicacion_C      66.751462   \n",
       "799     2021-01-02        300         Preventivo  Ubicacion_C      52.015960   \n",
       "1299    2021-01-03        300         Preventivo  Ubicacion_C      32.920433   \n",
       "1799    2021-01-04        300         Preventivo  Ubicacion_C      59.591049   \n",
       "2299    2021-01-05        300         Preventivo  Ubicacion_C      36.557020   \n",
       "...            ...        ...                ...          ...            ...   \n",
       "729546  2024-12-27        300         Correctivo  Ubicacion_C      46.747732   \n",
       "730046  2024-12-28        300         Preventivo  Ubicacion_C      86.514565   \n",
       "730546  2024-12-29        300         Correctivo  Ubicacion_C      35.849285   \n",
       "731048  2024-12-30        300         Preventivo  Ubicacion_C      63.646322   \n",
       "731548  2024-12-31        300         Preventivo  Ubicacion_C      44.328481   \n",
       "\n",
       "        Vibracion_mm_s  Horas_Operativas Tipo_Equipo    Fabricante    Modelo  \\\n",
       "299           5.159466               628   Compresor  Fabricante_C  Modelo_1   \n",
       "799           5.612254               638   Compresor  Fabricante_C  Modelo_1   \n",
       "1299          2.692280               654   Compresor  Fabricante_C  Modelo_1   \n",
       "1799          0.682017               672   Compresor  Fabricante_C  Modelo_1   \n",
       "2299          5.380131               680   Compresor  Fabricante_C  Modelo_1   \n",
       "...                ...               ...         ...           ...       ...   \n",
       "729546        0.299322                22   Compresor  Fabricante_C  Modelo_1   \n",
       "730046        1.161832                29   Compresor  Fabricante_C  Modelo_1   \n",
       "730546        7.549357                23   Compresor  Fabricante_C  Modelo_1   \n",
       "731048        4.029486                35   Compresor  Fabricante_C  Modelo_1   \n",
       "731548        3.327696                46   Compresor  Fabricante_C  Modelo_1   \n",
       "\n",
       "        Potencia_kW  Horas_Recomendadas_Revision  \n",
       "299             369                          568  \n",
       "799             369                          568  \n",
       "1299            369                          568  \n",
       "1799            369                          568  \n",
       "2299            369                          568  \n",
       "...             ...                          ...  \n",
       "729546          369                          568  \n",
       "730046          369                          568  \n",
       "730546          369                          568  \n",
       "731048          369                          568  \n",
       "731548          369                          568  \n",
       "\n",
       "[1463 rows x 12 columns]"
      ]
     },
     "execution_count": 8,
     "metadata": {},
     "output_type": "execute_result"
    }
   ],
   "source": [
    "mantenimiento_df_1 = mantenimiento_df[mantenimiento_df['ID_Equipo'] == 300].copy()\n",
    "mantenimiento_df_1"
   ]
  },
  {
   "cell_type": "code",
   "execution_count": 9,
   "metadata": {},
   "outputs": [],
   "source": [
    "mantenimiento_df_1['Fecha'] = pd.to_datetime(mantenimiento_df_1['Fecha'], format='%Y-%m-%d')\n",
    "mantenimiento_df_1 = mantenimiento_df_1.set_index('Fecha')"
   ]
  },
  {
   "cell_type": "code",
   "execution_count": 10,
   "metadata": {},
   "outputs": [],
   "source": [
    "# Eliminar duplicados en el índice para evitar errores\n",
    "mantenimiento_df_1 = mantenimiento_df_1[~mantenimiento_df_1.index.duplicated(keep='first')]\n",
    "\n",
    "mantenimiento_df_1 = mantenimiento_df_1.asfreq('D')  # Convierte Timeseries a frecuencia especificada.\n",
    "mantenimiento_df_1 = mantenimiento_df_1.sort_index()"
   ]
  },
  {
   "cell_type": "code",
   "execution_count": 11,
   "metadata": {},
   "outputs": [
    {
     "name": "stdout",
     "output_type": "stream",
     "text": [
      "Sumatorio de filas duplicadas en mantenimiento_df: 0\n"
     ]
    }
   ],
   "source": [
    "# Sumatorio de filas duplicadas en mantenimiento_df\n",
    "print(\"Sumatorio de filas duplicadas en mantenimiento_df:\", mantenimiento_df_1.duplicated().sum())"
   ]
  },
  {
   "cell_type": "code",
   "execution_count": 12,
   "metadata": {},
   "outputs": [
    {
     "name": "stdout",
     "output_type": "stream",
     "text": [
      "Número de filas con missing values: 0.0\n"
     ]
    }
   ],
   "source": [
    "print(f'Número de filas con missing values: {mantenimiento_df_1.isnull().any(axis=1).mean()}')"
   ]
  },
  {
   "cell_type": "code",
   "execution_count": 13,
   "metadata": {},
   "outputs": [
    {
     "name": "stdout",
     "output_type": "stream",
     "text": [
      "Índice completo: True\n"
     ]
    }
   ],
   "source": [
    "# Verificar que un índice temporal está completo\n",
    "\n",
    "fecha_inicio = mantenimiento_df_1.index.min()\n",
    "fecha_fin = mantenimiento_df_1.index.max()\n",
    "date_range_completo = pd.date_range(start=fecha_inicio, end=fecha_fin, freq=mantenimiento_df_1.index.freq)\n",
    "\n",
    "print(f\"Índice completo: {(mantenimiento_df_1.index == date_range_completo).all()}\")"
   ]
  },
  {
   "cell_type": "code",
   "execution_count": 14,
   "metadata": {},
   "outputs": [
    {
     "data": {
      "application/vnd.microsoft.datawrangler.viewer.v0+json": {
       "columns": [
        {
         "name": "Fecha",
         "rawType": "datetime64[ns]",
         "type": "datetime"
        },
        {
         "name": "ID_Equipo",
         "rawType": "int64",
         "type": "integer"
        },
        {
         "name": "Tipo_Mantenimiento",
         "rawType": "object",
         "type": "string"
        },
        {
         "name": "Ubicacion",
         "rawType": "object",
         "type": "string"
        },
        {
         "name": "Temperatura_C",
         "rawType": "float64",
         "type": "float"
        },
        {
         "name": "Vibracion_mm_s",
         "rawType": "float64",
         "type": "float"
        },
        {
         "name": "Horas_Operativas",
         "rawType": "int64",
         "type": "integer"
        },
        {
         "name": "Tipo_Equipo",
         "rawType": "object",
         "type": "string"
        },
        {
         "name": "Fabricante",
         "rawType": "object",
         "type": "string"
        },
        {
         "name": "Modelo",
         "rawType": "object",
         "type": "string"
        },
        {
         "name": "Potencia_kW",
         "rawType": "int64",
         "type": "integer"
        },
        {
         "name": "Horas_Recomendadas_Revision",
         "rawType": "int64",
         "type": "integer"
        }
       ],
       "conversionMethod": "pd.DataFrame",
       "ref": "01adef96-83a3-43b4-b856-33d6be67a09e",
       "rows": [
        [
         "2021-01-01 00:00:00",
         "300",
         "Preventivo",
         "Ubicacion_C",
         "66.7514621573433",
         "5.159466357711779",
         "628",
         "Compresor",
         "Fabricante_C",
         "Modelo_1",
         "369",
         "568"
        ],
        [
         "2021-01-02 00:00:00",
         "300",
         "Preventivo",
         "Ubicacion_C",
         "52.01596010359609",
         "5.6122535476981685",
         "638",
         "Compresor",
         "Fabricante_C",
         "Modelo_1",
         "369",
         "568"
        ],
        [
         "2021-01-03 00:00:00",
         "300",
         "Preventivo",
         "Ubicacion_C",
         "32.92043259552254",
         "2.6922799077479564",
         "654",
         "Compresor",
         "Fabricante_C",
         "Modelo_1",
         "369",
         "568"
        ],
        [
         "2021-01-04 00:00:00",
         "300",
         "Preventivo",
         "Ubicacion_C",
         "59.59104939589167",
         "0.6820166785949111",
         "672",
         "Compresor",
         "Fabricante_C",
         "Modelo_1",
         "369",
         "568"
        ],
        [
         "2021-01-05 00:00:00",
         "300",
         "Preventivo",
         "Ubicacion_C",
         "36.5570202244315",
         "5.380130798831635",
         "680",
         "Compresor",
         "Fabricante_C",
         "Modelo_1",
         "369",
         "568"
        ],
        [
         "2021-01-06 00:00:00",
         "300",
         "Preventivo",
         "Ubicacion_C",
         "97.85805077992065",
         "7.709939279860453",
         "691",
         "Compresor",
         "Fabricante_C",
         "Modelo_1",
         "369",
         "568"
        ],
        [
         "2021-01-07 00:00:00",
         "300",
         "Preventivo",
         "Ubicacion_C",
         "89.11541842478624",
         "9.894360426656243",
         "691",
         "Compresor",
         "Fabricante_C",
         "Modelo_1",
         "369",
         "568"
        ],
        [
         "2021-01-08 00:00:00",
         "300",
         "Preventivo",
         "Ubicacion_C",
         "35.689524211591426",
         "2.3814211892567547",
         "710",
         "Compresor",
         "Fabricante_C",
         "Modelo_1",
         "369",
         "568"
        ],
        [
         "2021-01-09 00:00:00",
         "300",
         "Preventivo",
         "Ubicacion_C",
         "39.56325691557687",
         "1.7055483894661685",
         "714",
         "Compresor",
         "Fabricante_C",
         "Modelo_1",
         "369",
         "568"
        ],
        [
         "2021-01-10 00:00:00",
         "300",
         "Preventivo",
         "Ubicacion_C",
         "97.83345162934252",
         "7.663022504830673",
         "732",
         "Compresor",
         "Fabricante_C",
         "Modelo_1",
         "369",
         "568"
        ],
        [
         "2021-01-11 00:00:00",
         "300",
         "Preventivo",
         "Ubicacion_C",
         "71.90673796835267",
         "3.661003909271071",
         "743",
         "Compresor",
         "Fabricante_C",
         "Modelo_1",
         "369",
         "568"
        ],
        [
         "2021-01-12 00:00:00",
         "300",
         "Preventivo",
         "Ubicacion_C",
         "41.85296295657893",
         "6.533661804094218",
         "748",
         "Compresor",
         "Fabricante_C",
         "Modelo_1",
         "369",
         "568"
        ],
        [
         "2021-01-13 00:00:00",
         "300",
         "Preventivo",
         "Ubicacion_C",
         "47.27410003525931",
         "4.1278343887063205",
         "756",
         "Compresor",
         "Fabricante_C",
         "Modelo_1",
         "369",
         "568"
        ],
        [
         "2021-01-14 00:00:00",
         "300",
         "Preventivo",
         "Ubicacion_C",
         "67.06509942777475",
         "4.911767114589058",
         "762",
         "Compresor",
         "Fabricante_C",
         "Modelo_1",
         "369",
         "568"
        ],
        [
         "2021-01-15 00:00:00",
         "300",
         "Preventivo",
         "Ubicacion_C",
         "25.02254972222224",
         "7.91149191816495",
         "762",
         "Compresor",
         "Fabricante_C",
         "Modelo_1",
         "369",
         "568"
        ],
        [
         "2021-01-16 00:00:00",
         "300",
         "Preventivo",
         "Ubicacion_C",
         "47.31232005013611",
         "1.2690322436027224",
         "779",
         "Compresor",
         "Fabricante_C",
         "Modelo_1",
         "369",
         "568"
        ],
        [
         "2021-01-17 00:00:00",
         "300",
         "Preventivo",
         "Ubicacion_C",
         "54.92347277932688",
         "9.896648208671897",
         "796",
         "Compresor",
         "Fabricante_C",
         "Modelo_1",
         "369",
         "568"
        ],
        [
         "2021-01-18 00:00:00",
         "300",
         "Correctivo",
         "Ubicacion_C",
         "77.60778196476348",
         "8.197899631640604",
         "22",
         "Compresor",
         "Fabricante_C",
         "Modelo_1",
         "369",
         "568"
        ],
        [
         "2021-01-19 00:00:00",
         "300",
         "Preventivo",
         "Ubicacion_C",
         "24.34176993336632",
         "9.672783362028031",
         "36",
         "Compresor",
         "Fabricante_C",
         "Modelo_1",
         "369",
         "568"
        ],
        [
         "2021-01-20 00:00:00",
         "300",
         "Preventivo",
         "Ubicacion_C",
         "39.705119565418215",
         "9.787056002698565",
         "49",
         "Compresor",
         "Fabricante_C",
         "Modelo_1",
         "369",
         "568"
        ],
        [
         "2021-01-21 00:00:00",
         "300",
         "Preventivo",
         "Ubicacion_C",
         "29.5709094703441",
         "5.026711064006547",
         "55",
         "Compresor",
         "Fabricante_C",
         "Modelo_1",
         "369",
         "568"
        ],
        [
         "2021-01-22 00:00:00",
         "300",
         "Preventivo",
         "Ubicacion_C",
         "29.486865852350324",
         "3.3373607957680607",
         "56",
         "Compresor",
         "Fabricante_C",
         "Modelo_1",
         "369",
         "568"
        ],
        [
         "2021-01-23 00:00:00",
         "300",
         "Preventivo",
         "Ubicacion_C",
         "64.62206741028878",
         "0.4279623584446923",
         "76",
         "Compresor",
         "Fabricante_C",
         "Modelo_1",
         "369",
         "568"
        ],
        [
         "2021-01-24 00:00:00",
         "300",
         "Preventivo",
         "Ubicacion_C",
         "79.02212832205385",
         "4.9074514966657965",
         "84",
         "Compresor",
         "Fabricante_C",
         "Modelo_1",
         "369",
         "568"
        ],
        [
         "2021-01-25 00:00:00",
         "300",
         "Preventivo",
         "Ubicacion_C",
         "55.362102958361",
         "8.260256519131934",
         "87",
         "Compresor",
         "Fabricante_C",
         "Modelo_1",
         "369",
         "568"
        ],
        [
         "2021-01-26 00:00:00",
         "300",
         "Preventivo",
         "Ubicacion_C",
         "24.007454170482944",
         "3.3839047853023665",
         "89",
         "Compresor",
         "Fabricante_C",
         "Modelo_1",
         "369",
         "568"
        ],
        [
         "2021-01-27 00:00:00",
         "300",
         "Preventivo",
         "Ubicacion_C",
         "90.2160673934744",
         "3.568854047152077",
         "96",
         "Compresor",
         "Fabricante_C",
         "Modelo_1",
         "369",
         "568"
        ],
        [
         "2021-01-28 00:00:00",
         "300",
         "Preventivo",
         "Ubicacion_C",
         "76.12311156966567",
         "6.180437866659868",
         "115",
         "Compresor",
         "Fabricante_C",
         "Modelo_1",
         "369",
         "568"
        ],
        [
         "2021-01-29 00:00:00",
         "300",
         "Correctivo",
         "Ubicacion_C",
         "33.82878735224835",
         "6.659678782007066",
         "8",
         "Compresor",
         "Fabricante_C",
         "Modelo_1",
         "369",
         "568"
        ],
        [
         "2021-01-30 00:00:00",
         "300",
         "Preventivo",
         "Ubicacion_C",
         "63.63862057089072",
         "7.465714378683183",
         "21",
         "Compresor",
         "Fabricante_C",
         "Modelo_1",
         "369",
         "568"
        ],
        [
         "2021-01-31 00:00:00",
         "300",
         "Preventivo",
         "Ubicacion_C",
         "92.73070151168434",
         "8.429730810631007",
         "39",
         "Compresor",
         "Fabricante_C",
         "Modelo_1",
         "369",
         "568"
        ],
        [
         "2021-02-01 00:00:00",
         "300",
         "Preventivo",
         "Ubicacion_C",
         "88.5231526775038",
         "1.5217430385773956",
         "52",
         "Compresor",
         "Fabricante_C",
         "Modelo_1",
         "369",
         "568"
        ],
        [
         "2021-02-02 00:00:00",
         "300",
         "Preventivo",
         "Ubicacion_C",
         "66.4974340556909",
         "5.913900545551172",
         "66",
         "Compresor",
         "Fabricante_C",
         "Modelo_1",
         "369",
         "568"
        ],
        [
         "2021-02-03 00:00:00",
         "300",
         "Preventivo",
         "Ubicacion_C",
         "24.461288319268306",
         "8.708534036588755",
         "87",
         "Compresor",
         "Fabricante_C",
         "Modelo_1",
         "369",
         "568"
        ],
        [
         "2021-02-04 00:00:00",
         "300",
         "Preventivo",
         "Ubicacion_C",
         "31.749176688185425",
         "6.318576681421666",
         "92",
         "Compresor",
         "Fabricante_C",
         "Modelo_1",
         "369",
         "568"
        ],
        [
         "2021-02-05 00:00:00",
         "300",
         "Preventivo",
         "Ubicacion_C",
         "96.68157465151992",
         "3.8659990505448105",
         "95",
         "Compresor",
         "Fabricante_C",
         "Modelo_1",
         "369",
         "568"
        ],
        [
         "2021-02-06 00:00:00",
         "300",
         "Preventivo",
         "Ubicacion_C",
         "97.1709108801555",
         "6.540861133115133",
         "108",
         "Compresor",
         "Fabricante_C",
         "Modelo_1",
         "369",
         "568"
        ],
        [
         "2021-02-07 00:00:00",
         "300",
         "Preventivo",
         "Ubicacion_C",
         "21.20241736042197",
         "3.808315171744261",
         "118",
         "Compresor",
         "Fabricante_C",
         "Modelo_1",
         "369",
         "568"
        ],
        [
         "2021-02-08 00:00:00",
         "300",
         "Preventivo",
         "Ubicacion_C",
         "56.26566057602788",
         "7.620197554010249",
         "132",
         "Compresor",
         "Fabricante_C",
         "Modelo_1",
         "369",
         "568"
        ],
        [
         "2021-02-09 00:00:00",
         "300",
         "Preventivo",
         "Ubicacion_C",
         "71.27716222053292",
         "8.434269398005124",
         "139",
         "Compresor",
         "Fabricante_C",
         "Modelo_1",
         "369",
         "568"
        ],
        [
         "2021-02-10 00:00:00",
         "300",
         "Preventivo",
         "Ubicacion_C",
         "46.09529931178727",
         "8.91019876526096",
         "162",
         "Compresor",
         "Fabricante_C",
         "Modelo_1",
         "369",
         "568"
        ],
        [
         "2021-02-11 00:00:00",
         "300",
         "Preventivo",
         "Ubicacion_C",
         "88.13906323293325",
         "2.899396837709344",
         "165",
         "Compresor",
         "Fabricante_C",
         "Modelo_1",
         "369",
         "568"
        ],
        [
         "2021-02-12 00:00:00",
         "300",
         "Preventivo",
         "Ubicacion_C",
         "60.02886218435422",
         "5.647597469757662",
         "189",
         "Compresor",
         "Fabricante_C",
         "Modelo_1",
         "369",
         "568"
        ],
        [
         "2021-02-13 00:00:00",
         "300",
         "Preventivo",
         "Ubicacion_C",
         "26.04979660459284",
         "8.071759362144574",
         "213",
         "Compresor",
         "Fabricante_C",
         "Modelo_1",
         "369",
         "568"
        ],
        [
         "2021-02-14 00:00:00",
         "300",
         "Preventivo",
         "Ubicacion_C",
         "99.07179431087302",
         "3.834334071859744",
         "223",
         "Compresor",
         "Fabricante_C",
         "Modelo_1",
         "369",
         "568"
        ],
        [
         "2021-02-15 00:00:00",
         "300",
         "Preventivo",
         "Ubicacion_C",
         "35.85174667296371",
         "9.478185910727255",
         "243",
         "Compresor",
         "Fabricante_C",
         "Modelo_1",
         "369",
         "568"
        ],
        [
         "2021-02-16 00:00:00",
         "300",
         "Preventivo",
         "Ubicacion_C",
         "77.19781751141761",
         "7.078284999682128",
         "262",
         "Compresor",
         "Fabricante_C",
         "Modelo_1",
         "369",
         "568"
        ],
        [
         "2021-02-17 00:00:00",
         "300",
         "Correctivo",
         "Ubicacion_C",
         "92.4425345706246",
         "7.362733426045459",
         "12",
         "Compresor",
         "Fabricante_C",
         "Modelo_1",
         "369",
         "568"
        ],
        [
         "2021-02-18 00:00:00",
         "300",
         "Preventivo",
         "Ubicacion_C",
         "69.77332165266532",
         "1.4247579940636024",
         "35",
         "Compresor",
         "Fabricante_C",
         "Modelo_1",
         "369",
         "568"
        ],
        [
         "2021-02-19 00:00:00",
         "300",
         "Preventivo",
         "Ubicacion_C",
         "78.03976172895274",
         "5.896997602326501",
         "45",
         "Compresor",
         "Fabricante_C",
         "Modelo_1",
         "369",
         "568"
        ]
       ],
       "shape": {
        "columns": 11,
        "rows": 1461
       }
      },
      "text/html": [
       "<div>\n",
       "<style scoped>\n",
       "    .dataframe tbody tr th:only-of-type {\n",
       "        vertical-align: middle;\n",
       "    }\n",
       "\n",
       "    .dataframe tbody tr th {\n",
       "        vertical-align: top;\n",
       "    }\n",
       "\n",
       "    .dataframe thead th {\n",
       "        text-align: right;\n",
       "    }\n",
       "</style>\n",
       "<table border=\"1\" class=\"dataframe\">\n",
       "  <thead>\n",
       "    <tr style=\"text-align: right;\">\n",
       "      <th></th>\n",
       "      <th>ID_Equipo</th>\n",
       "      <th>Tipo_Mantenimiento</th>\n",
       "      <th>Ubicacion</th>\n",
       "      <th>Temperatura_C</th>\n",
       "      <th>Vibracion_mm_s</th>\n",
       "      <th>Horas_Operativas</th>\n",
       "      <th>Tipo_Equipo</th>\n",
       "      <th>Fabricante</th>\n",
       "      <th>Modelo</th>\n",
       "      <th>Potencia_kW</th>\n",
       "      <th>Horas_Recomendadas_Revision</th>\n",
       "    </tr>\n",
       "    <tr>\n",
       "      <th>Fecha</th>\n",
       "      <th></th>\n",
       "      <th></th>\n",
       "      <th></th>\n",
       "      <th></th>\n",
       "      <th></th>\n",
       "      <th></th>\n",
       "      <th></th>\n",
       "      <th></th>\n",
       "      <th></th>\n",
       "      <th></th>\n",
       "      <th></th>\n",
       "    </tr>\n",
       "  </thead>\n",
       "  <tbody>\n",
       "    <tr>\n",
       "      <th>2021-01-01</th>\n",
       "      <td>300</td>\n",
       "      <td>Preventivo</td>\n",
       "      <td>Ubicacion_C</td>\n",
       "      <td>66.751462</td>\n",
       "      <td>5.159466</td>\n",
       "      <td>628</td>\n",
       "      <td>Compresor</td>\n",
       "      <td>Fabricante_C</td>\n",
       "      <td>Modelo_1</td>\n",
       "      <td>369</td>\n",
       "      <td>568</td>\n",
       "    </tr>\n",
       "    <tr>\n",
       "      <th>2021-01-02</th>\n",
       "      <td>300</td>\n",
       "      <td>Preventivo</td>\n",
       "      <td>Ubicacion_C</td>\n",
       "      <td>52.015960</td>\n",
       "      <td>5.612254</td>\n",
       "      <td>638</td>\n",
       "      <td>Compresor</td>\n",
       "      <td>Fabricante_C</td>\n",
       "      <td>Modelo_1</td>\n",
       "      <td>369</td>\n",
       "      <td>568</td>\n",
       "    </tr>\n",
       "    <tr>\n",
       "      <th>2021-01-03</th>\n",
       "      <td>300</td>\n",
       "      <td>Preventivo</td>\n",
       "      <td>Ubicacion_C</td>\n",
       "      <td>32.920433</td>\n",
       "      <td>2.692280</td>\n",
       "      <td>654</td>\n",
       "      <td>Compresor</td>\n",
       "      <td>Fabricante_C</td>\n",
       "      <td>Modelo_1</td>\n",
       "      <td>369</td>\n",
       "      <td>568</td>\n",
       "    </tr>\n",
       "    <tr>\n",
       "      <th>2021-01-04</th>\n",
       "      <td>300</td>\n",
       "      <td>Preventivo</td>\n",
       "      <td>Ubicacion_C</td>\n",
       "      <td>59.591049</td>\n",
       "      <td>0.682017</td>\n",
       "      <td>672</td>\n",
       "      <td>Compresor</td>\n",
       "      <td>Fabricante_C</td>\n",
       "      <td>Modelo_1</td>\n",
       "      <td>369</td>\n",
       "      <td>568</td>\n",
       "    </tr>\n",
       "    <tr>\n",
       "      <th>2021-01-05</th>\n",
       "      <td>300</td>\n",
       "      <td>Preventivo</td>\n",
       "      <td>Ubicacion_C</td>\n",
       "      <td>36.557020</td>\n",
       "      <td>5.380131</td>\n",
       "      <td>680</td>\n",
       "      <td>Compresor</td>\n",
       "      <td>Fabricante_C</td>\n",
       "      <td>Modelo_1</td>\n",
       "      <td>369</td>\n",
       "      <td>568</td>\n",
       "    </tr>\n",
       "    <tr>\n",
       "      <th>...</th>\n",
       "      <td>...</td>\n",
       "      <td>...</td>\n",
       "      <td>...</td>\n",
       "      <td>...</td>\n",
       "      <td>...</td>\n",
       "      <td>...</td>\n",
       "      <td>...</td>\n",
       "      <td>...</td>\n",
       "      <td>...</td>\n",
       "      <td>...</td>\n",
       "      <td>...</td>\n",
       "    </tr>\n",
       "    <tr>\n",
       "      <th>2024-12-27</th>\n",
       "      <td>300</td>\n",
       "      <td>Correctivo</td>\n",
       "      <td>Ubicacion_C</td>\n",
       "      <td>46.747732</td>\n",
       "      <td>0.299322</td>\n",
       "      <td>22</td>\n",
       "      <td>Compresor</td>\n",
       "      <td>Fabricante_C</td>\n",
       "      <td>Modelo_1</td>\n",
       "      <td>369</td>\n",
       "      <td>568</td>\n",
       "    </tr>\n",
       "    <tr>\n",
       "      <th>2024-12-28</th>\n",
       "      <td>300</td>\n",
       "      <td>Preventivo</td>\n",
       "      <td>Ubicacion_C</td>\n",
       "      <td>86.514565</td>\n",
       "      <td>1.161832</td>\n",
       "      <td>29</td>\n",
       "      <td>Compresor</td>\n",
       "      <td>Fabricante_C</td>\n",
       "      <td>Modelo_1</td>\n",
       "      <td>369</td>\n",
       "      <td>568</td>\n",
       "    </tr>\n",
       "    <tr>\n",
       "      <th>2024-12-29</th>\n",
       "      <td>300</td>\n",
       "      <td>Correctivo</td>\n",
       "      <td>Ubicacion_C</td>\n",
       "      <td>35.849285</td>\n",
       "      <td>7.549357</td>\n",
       "      <td>23</td>\n",
       "      <td>Compresor</td>\n",
       "      <td>Fabricante_C</td>\n",
       "      <td>Modelo_1</td>\n",
       "      <td>369</td>\n",
       "      <td>568</td>\n",
       "    </tr>\n",
       "    <tr>\n",
       "      <th>2024-12-30</th>\n",
       "      <td>300</td>\n",
       "      <td>Preventivo</td>\n",
       "      <td>Ubicacion_C</td>\n",
       "      <td>63.646322</td>\n",
       "      <td>4.029486</td>\n",
       "      <td>35</td>\n",
       "      <td>Compresor</td>\n",
       "      <td>Fabricante_C</td>\n",
       "      <td>Modelo_1</td>\n",
       "      <td>369</td>\n",
       "      <td>568</td>\n",
       "    </tr>\n",
       "    <tr>\n",
       "      <th>2024-12-31</th>\n",
       "      <td>300</td>\n",
       "      <td>Preventivo</td>\n",
       "      <td>Ubicacion_C</td>\n",
       "      <td>44.328481</td>\n",
       "      <td>3.327696</td>\n",
       "      <td>46</td>\n",
       "      <td>Compresor</td>\n",
       "      <td>Fabricante_C</td>\n",
       "      <td>Modelo_1</td>\n",
       "      <td>369</td>\n",
       "      <td>568</td>\n",
       "    </tr>\n",
       "  </tbody>\n",
       "</table>\n",
       "<p>1461 rows × 11 columns</p>\n",
       "</div>"
      ],
      "text/plain": [
       "            ID_Equipo Tipo_Mantenimiento    Ubicacion  Temperatura_C  \\\n",
       "Fecha                                                                  \n",
       "2021-01-01        300         Preventivo  Ubicacion_C      66.751462   \n",
       "2021-01-02        300         Preventivo  Ubicacion_C      52.015960   \n",
       "2021-01-03        300         Preventivo  Ubicacion_C      32.920433   \n",
       "2021-01-04        300         Preventivo  Ubicacion_C      59.591049   \n",
       "2021-01-05        300         Preventivo  Ubicacion_C      36.557020   \n",
       "...               ...                ...          ...            ...   \n",
       "2024-12-27        300         Correctivo  Ubicacion_C      46.747732   \n",
       "2024-12-28        300         Preventivo  Ubicacion_C      86.514565   \n",
       "2024-12-29        300         Correctivo  Ubicacion_C      35.849285   \n",
       "2024-12-30        300         Preventivo  Ubicacion_C      63.646322   \n",
       "2024-12-31        300         Preventivo  Ubicacion_C      44.328481   \n",
       "\n",
       "            Vibracion_mm_s  Horas_Operativas Tipo_Equipo    Fabricante  \\\n",
       "Fecha                                                                    \n",
       "2021-01-01        5.159466               628   Compresor  Fabricante_C   \n",
       "2021-01-02        5.612254               638   Compresor  Fabricante_C   \n",
       "2021-01-03        2.692280               654   Compresor  Fabricante_C   \n",
       "2021-01-04        0.682017               672   Compresor  Fabricante_C   \n",
       "2021-01-05        5.380131               680   Compresor  Fabricante_C   \n",
       "...                    ...               ...         ...           ...   \n",
       "2024-12-27        0.299322                22   Compresor  Fabricante_C   \n",
       "2024-12-28        1.161832                29   Compresor  Fabricante_C   \n",
       "2024-12-29        7.549357                23   Compresor  Fabricante_C   \n",
       "2024-12-30        4.029486                35   Compresor  Fabricante_C   \n",
       "2024-12-31        3.327696                46   Compresor  Fabricante_C   \n",
       "\n",
       "              Modelo  Potencia_kW  Horas_Recomendadas_Revision  \n",
       "Fecha                                                           \n",
       "2021-01-01  Modelo_1          369                          568  \n",
       "2021-01-02  Modelo_1          369                          568  \n",
       "2021-01-03  Modelo_1          369                          568  \n",
       "2021-01-04  Modelo_1          369                          568  \n",
       "2021-01-05  Modelo_1          369                          568  \n",
       "...              ...          ...                          ...  \n",
       "2024-12-27  Modelo_1          369                          568  \n",
       "2024-12-28  Modelo_1          369                          568  \n",
       "2024-12-29  Modelo_1          369                          568  \n",
       "2024-12-30  Modelo_1          369                          568  \n",
       "2024-12-31  Modelo_1          369                          568  \n",
       "\n",
       "[1461 rows x 11 columns]"
      ]
     },
     "execution_count": 14,
     "metadata": {},
     "output_type": "execute_result"
    }
   ],
   "source": [
    "mantenimiento_df_1"
   ]
  },
  {
   "cell_type": "code",
   "execution_count": 15,
   "metadata": {},
   "outputs": [],
   "source": [
    "# Elimino ID_Orden, establezco Fecha como índice y le doy formato datetime\n",
    "mantenimiento_df_1 = mantenimiento_df_1.drop(\n",
    "    columns=['ID_Equipo','Ubicacion', 'Tipo_Equipo', 'Fabricante', 'Modelo', 'Potencia_kW', 'Horas_Recomendadas_Revision'])"
   ]
  },
  {
   "cell_type": "code",
   "execution_count": 16,
   "metadata": {},
   "outputs": [
    {
     "data": {
      "application/vnd.microsoft.datawrangler.viewer.v0+json": {
       "columns": [
        {
         "name": "Fecha",
         "rawType": "datetime64[ns]",
         "type": "datetime"
        },
        {
         "name": "Tipo_Mantenimiento",
         "rawType": "object",
         "type": "string"
        },
        {
         "name": "Temperatura_C",
         "rawType": "float64",
         "type": "float"
        },
        {
         "name": "Vibracion_mm_s",
         "rawType": "float64",
         "type": "float"
        },
        {
         "name": "Horas_Operativas",
         "rawType": "int64",
         "type": "integer"
        }
       ],
       "conversionMethod": "pd.DataFrame",
       "ref": "255edc74-aade-401c-885a-8b49c4abb3b7",
       "rows": [
        [
         "2021-01-01 00:00:00",
         "Preventivo",
         "66.7514621573433",
         "5.159466357711779",
         "628"
        ],
        [
         "2021-01-02 00:00:00",
         "Preventivo",
         "52.01596010359609",
         "5.6122535476981685",
         "638"
        ],
        [
         "2021-01-03 00:00:00",
         "Preventivo",
         "32.92043259552254",
         "2.6922799077479564",
         "654"
        ],
        [
         "2021-01-04 00:00:00",
         "Preventivo",
         "59.59104939589167",
         "0.6820166785949111",
         "672"
        ],
        [
         "2021-01-05 00:00:00",
         "Preventivo",
         "36.5570202244315",
         "5.380130798831635",
         "680"
        ],
        [
         "2021-01-06 00:00:00",
         "Preventivo",
         "97.85805077992065",
         "7.709939279860453",
         "691"
        ],
        [
         "2021-01-07 00:00:00",
         "Preventivo",
         "89.11541842478624",
         "9.894360426656243",
         "691"
        ],
        [
         "2021-01-08 00:00:00",
         "Preventivo",
         "35.689524211591426",
         "2.3814211892567547",
         "710"
        ],
        [
         "2021-01-09 00:00:00",
         "Preventivo",
         "39.56325691557687",
         "1.7055483894661685",
         "714"
        ],
        [
         "2021-01-10 00:00:00",
         "Preventivo",
         "97.83345162934252",
         "7.663022504830673",
         "732"
        ],
        [
         "2021-01-11 00:00:00",
         "Preventivo",
         "71.90673796835267",
         "3.661003909271071",
         "743"
        ],
        [
         "2021-01-12 00:00:00",
         "Preventivo",
         "41.85296295657893",
         "6.533661804094218",
         "748"
        ],
        [
         "2021-01-13 00:00:00",
         "Preventivo",
         "47.27410003525931",
         "4.1278343887063205",
         "756"
        ],
        [
         "2021-01-14 00:00:00",
         "Preventivo",
         "67.06509942777475",
         "4.911767114589058",
         "762"
        ],
        [
         "2021-01-15 00:00:00",
         "Preventivo",
         "25.02254972222224",
         "7.91149191816495",
         "762"
        ],
        [
         "2021-01-16 00:00:00",
         "Preventivo",
         "47.31232005013611",
         "1.2690322436027224",
         "779"
        ],
        [
         "2021-01-17 00:00:00",
         "Preventivo",
         "54.92347277932688",
         "9.896648208671897",
         "796"
        ],
        [
         "2021-01-18 00:00:00",
         "Correctivo",
         "77.60778196476348",
         "8.197899631640604",
         "22"
        ],
        [
         "2021-01-19 00:00:00",
         "Preventivo",
         "24.34176993336632",
         "9.672783362028031",
         "36"
        ],
        [
         "2021-01-20 00:00:00",
         "Preventivo",
         "39.705119565418215",
         "9.787056002698565",
         "49"
        ],
        [
         "2021-01-21 00:00:00",
         "Preventivo",
         "29.5709094703441",
         "5.026711064006547",
         "55"
        ],
        [
         "2021-01-22 00:00:00",
         "Preventivo",
         "29.486865852350324",
         "3.3373607957680607",
         "56"
        ],
        [
         "2021-01-23 00:00:00",
         "Preventivo",
         "64.62206741028878",
         "0.4279623584446923",
         "76"
        ],
        [
         "2021-01-24 00:00:00",
         "Preventivo",
         "79.02212832205385",
         "4.9074514966657965",
         "84"
        ],
        [
         "2021-01-25 00:00:00",
         "Preventivo",
         "55.362102958361",
         "8.260256519131934",
         "87"
        ],
        [
         "2021-01-26 00:00:00",
         "Preventivo",
         "24.007454170482944",
         "3.3839047853023665",
         "89"
        ],
        [
         "2021-01-27 00:00:00",
         "Preventivo",
         "90.2160673934744",
         "3.568854047152077",
         "96"
        ],
        [
         "2021-01-28 00:00:00",
         "Preventivo",
         "76.12311156966567",
         "6.180437866659868",
         "115"
        ],
        [
         "2021-01-29 00:00:00",
         "Correctivo",
         "33.82878735224835",
         "6.659678782007066",
         "8"
        ],
        [
         "2021-01-30 00:00:00",
         "Preventivo",
         "63.63862057089072",
         "7.465714378683183",
         "21"
        ],
        [
         "2021-01-31 00:00:00",
         "Preventivo",
         "92.73070151168434",
         "8.429730810631007",
         "39"
        ],
        [
         "2021-02-01 00:00:00",
         "Preventivo",
         "88.5231526775038",
         "1.5217430385773956",
         "52"
        ],
        [
         "2021-02-02 00:00:00",
         "Preventivo",
         "66.4974340556909",
         "5.913900545551172",
         "66"
        ],
        [
         "2021-02-03 00:00:00",
         "Preventivo",
         "24.461288319268306",
         "8.708534036588755",
         "87"
        ],
        [
         "2021-02-04 00:00:00",
         "Preventivo",
         "31.749176688185425",
         "6.318576681421666",
         "92"
        ],
        [
         "2021-02-05 00:00:00",
         "Preventivo",
         "96.68157465151992",
         "3.8659990505448105",
         "95"
        ],
        [
         "2021-02-06 00:00:00",
         "Preventivo",
         "97.1709108801555",
         "6.540861133115133",
         "108"
        ],
        [
         "2021-02-07 00:00:00",
         "Preventivo",
         "21.20241736042197",
         "3.808315171744261",
         "118"
        ],
        [
         "2021-02-08 00:00:00",
         "Preventivo",
         "56.26566057602788",
         "7.620197554010249",
         "132"
        ],
        [
         "2021-02-09 00:00:00",
         "Preventivo",
         "71.27716222053292",
         "8.434269398005124",
         "139"
        ],
        [
         "2021-02-10 00:00:00",
         "Preventivo",
         "46.09529931178727",
         "8.91019876526096",
         "162"
        ],
        [
         "2021-02-11 00:00:00",
         "Preventivo",
         "88.13906323293325",
         "2.899396837709344",
         "165"
        ],
        [
         "2021-02-12 00:00:00",
         "Preventivo",
         "60.02886218435422",
         "5.647597469757662",
         "189"
        ],
        [
         "2021-02-13 00:00:00",
         "Preventivo",
         "26.04979660459284",
         "8.071759362144574",
         "213"
        ],
        [
         "2021-02-14 00:00:00",
         "Preventivo",
         "99.07179431087302",
         "3.834334071859744",
         "223"
        ],
        [
         "2021-02-15 00:00:00",
         "Preventivo",
         "35.85174667296371",
         "9.478185910727255",
         "243"
        ],
        [
         "2021-02-16 00:00:00",
         "Preventivo",
         "77.19781751141761",
         "7.078284999682128",
         "262"
        ],
        [
         "2021-02-17 00:00:00",
         "Correctivo",
         "92.4425345706246",
         "7.362733426045459",
         "12"
        ],
        [
         "2021-02-18 00:00:00",
         "Preventivo",
         "69.77332165266532",
         "1.4247579940636024",
         "35"
        ],
        [
         "2021-02-19 00:00:00",
         "Preventivo",
         "78.03976172895274",
         "5.896997602326501",
         "45"
        ]
       ],
       "shape": {
        "columns": 4,
        "rows": 1461
       }
      },
      "text/html": [
       "<div>\n",
       "<style scoped>\n",
       "    .dataframe tbody tr th:only-of-type {\n",
       "        vertical-align: middle;\n",
       "    }\n",
       "\n",
       "    .dataframe tbody tr th {\n",
       "        vertical-align: top;\n",
       "    }\n",
       "\n",
       "    .dataframe thead th {\n",
       "        text-align: right;\n",
       "    }\n",
       "</style>\n",
       "<table border=\"1\" class=\"dataframe\">\n",
       "  <thead>\n",
       "    <tr style=\"text-align: right;\">\n",
       "      <th></th>\n",
       "      <th>Tipo_Mantenimiento</th>\n",
       "      <th>Temperatura_C</th>\n",
       "      <th>Vibracion_mm_s</th>\n",
       "      <th>Horas_Operativas</th>\n",
       "    </tr>\n",
       "    <tr>\n",
       "      <th>Fecha</th>\n",
       "      <th></th>\n",
       "      <th></th>\n",
       "      <th></th>\n",
       "      <th></th>\n",
       "    </tr>\n",
       "  </thead>\n",
       "  <tbody>\n",
       "    <tr>\n",
       "      <th>2021-01-01</th>\n",
       "      <td>Preventivo</td>\n",
       "      <td>66.751462</td>\n",
       "      <td>5.159466</td>\n",
       "      <td>628</td>\n",
       "    </tr>\n",
       "    <tr>\n",
       "      <th>2021-01-02</th>\n",
       "      <td>Preventivo</td>\n",
       "      <td>52.015960</td>\n",
       "      <td>5.612254</td>\n",
       "      <td>638</td>\n",
       "    </tr>\n",
       "    <tr>\n",
       "      <th>2021-01-03</th>\n",
       "      <td>Preventivo</td>\n",
       "      <td>32.920433</td>\n",
       "      <td>2.692280</td>\n",
       "      <td>654</td>\n",
       "    </tr>\n",
       "    <tr>\n",
       "      <th>2021-01-04</th>\n",
       "      <td>Preventivo</td>\n",
       "      <td>59.591049</td>\n",
       "      <td>0.682017</td>\n",
       "      <td>672</td>\n",
       "    </tr>\n",
       "    <tr>\n",
       "      <th>2021-01-05</th>\n",
       "      <td>Preventivo</td>\n",
       "      <td>36.557020</td>\n",
       "      <td>5.380131</td>\n",
       "      <td>680</td>\n",
       "    </tr>\n",
       "    <tr>\n",
       "      <th>...</th>\n",
       "      <td>...</td>\n",
       "      <td>...</td>\n",
       "      <td>...</td>\n",
       "      <td>...</td>\n",
       "    </tr>\n",
       "    <tr>\n",
       "      <th>2024-12-27</th>\n",
       "      <td>Correctivo</td>\n",
       "      <td>46.747732</td>\n",
       "      <td>0.299322</td>\n",
       "      <td>22</td>\n",
       "    </tr>\n",
       "    <tr>\n",
       "      <th>2024-12-28</th>\n",
       "      <td>Preventivo</td>\n",
       "      <td>86.514565</td>\n",
       "      <td>1.161832</td>\n",
       "      <td>29</td>\n",
       "    </tr>\n",
       "    <tr>\n",
       "      <th>2024-12-29</th>\n",
       "      <td>Correctivo</td>\n",
       "      <td>35.849285</td>\n",
       "      <td>7.549357</td>\n",
       "      <td>23</td>\n",
       "    </tr>\n",
       "    <tr>\n",
       "      <th>2024-12-30</th>\n",
       "      <td>Preventivo</td>\n",
       "      <td>63.646322</td>\n",
       "      <td>4.029486</td>\n",
       "      <td>35</td>\n",
       "    </tr>\n",
       "    <tr>\n",
       "      <th>2024-12-31</th>\n",
       "      <td>Preventivo</td>\n",
       "      <td>44.328481</td>\n",
       "      <td>3.327696</td>\n",
       "      <td>46</td>\n",
       "    </tr>\n",
       "  </tbody>\n",
       "</table>\n",
       "<p>1461 rows × 4 columns</p>\n",
       "</div>"
      ],
      "text/plain": [
       "           Tipo_Mantenimiento  Temperatura_C  Vibracion_mm_s  Horas_Operativas\n",
       "Fecha                                                                         \n",
       "2021-01-01         Preventivo      66.751462        5.159466               628\n",
       "2021-01-02         Preventivo      52.015960        5.612254               638\n",
       "2021-01-03         Preventivo      32.920433        2.692280               654\n",
       "2021-01-04         Preventivo      59.591049        0.682017               672\n",
       "2021-01-05         Preventivo      36.557020        5.380131               680\n",
       "...                       ...            ...             ...               ...\n",
       "2024-12-27         Correctivo      46.747732        0.299322                22\n",
       "2024-12-28         Preventivo      86.514565        1.161832                29\n",
       "2024-12-29         Correctivo      35.849285        7.549357                23\n",
       "2024-12-30         Preventivo      63.646322        4.029486                35\n",
       "2024-12-31         Preventivo      44.328481        3.327696                46\n",
       "\n",
       "[1461 rows x 4 columns]"
      ]
     },
     "execution_count": 16,
     "metadata": {},
     "output_type": "execute_result"
    }
   ],
   "source": [
    "mantenimiento_df_1"
   ]
  },
  {
   "cell_type": "code",
   "execution_count": 17,
   "metadata": {},
   "outputs": [
    {
     "data": {
      "application/vnd.microsoft.datawrangler.viewer.v0+json": {
       "columns": [
        {
         "name": "Fecha",
         "rawType": "datetime64[ns]",
         "type": "datetime"
        },
        {
         "name": "Tipo_Mantenimiento",
         "rawType": "int32",
         "type": "integer"
        },
        {
         "name": "Temperatura_C",
         "rawType": "float64",
         "type": "float"
        },
        {
         "name": "Vibracion_mm_s",
         "rawType": "float64",
         "type": "float"
        },
        {
         "name": "Horas_Operativas",
         "rawType": "int64",
         "type": "integer"
        }
       ],
       "conversionMethod": "pd.DataFrame",
       "ref": "63677d16-170f-46fb-bf87-95bcce56b223",
       "rows": [
        [
         "2021-01-01 00:00:00",
         "1",
         "66.7514621573433",
         "5.159466357711779",
         "628"
        ],
        [
         "2021-01-02 00:00:00",
         "1",
         "52.01596010359609",
         "5.6122535476981685",
         "638"
        ],
        [
         "2021-01-03 00:00:00",
         "1",
         "32.92043259552254",
         "2.6922799077479564",
         "654"
        ],
        [
         "2021-01-04 00:00:00",
         "1",
         "59.59104939589167",
         "0.6820166785949111",
         "672"
        ],
        [
         "2021-01-05 00:00:00",
         "1",
         "36.5570202244315",
         "5.380130798831635",
         "680"
        ],
        [
         "2021-01-06 00:00:00",
         "1",
         "97.85805077992065",
         "7.709939279860453",
         "691"
        ],
        [
         "2021-01-07 00:00:00",
         "1",
         "89.11541842478624",
         "9.894360426656243",
         "691"
        ],
        [
         "2021-01-08 00:00:00",
         "1",
         "35.689524211591426",
         "2.3814211892567547",
         "710"
        ],
        [
         "2021-01-09 00:00:00",
         "1",
         "39.56325691557687",
         "1.7055483894661685",
         "714"
        ],
        [
         "2021-01-10 00:00:00",
         "1",
         "97.83345162934252",
         "7.663022504830673",
         "732"
        ],
        [
         "2021-01-11 00:00:00",
         "1",
         "71.90673796835267",
         "3.661003909271071",
         "743"
        ],
        [
         "2021-01-12 00:00:00",
         "1",
         "41.85296295657893",
         "6.533661804094218",
         "748"
        ],
        [
         "2021-01-13 00:00:00",
         "1",
         "47.27410003525931",
         "4.1278343887063205",
         "756"
        ],
        [
         "2021-01-14 00:00:00",
         "1",
         "67.06509942777475",
         "4.911767114589058",
         "762"
        ],
        [
         "2021-01-15 00:00:00",
         "1",
         "25.02254972222224",
         "7.91149191816495",
         "762"
        ],
        [
         "2021-01-16 00:00:00",
         "1",
         "47.31232005013611",
         "1.2690322436027224",
         "779"
        ],
        [
         "2021-01-17 00:00:00",
         "1",
         "54.92347277932688",
         "9.896648208671897",
         "796"
        ],
        [
         "2021-01-18 00:00:00",
         "0",
         "77.60778196476348",
         "8.197899631640604",
         "22"
        ],
        [
         "2021-01-19 00:00:00",
         "1",
         "24.34176993336632",
         "9.672783362028031",
         "36"
        ],
        [
         "2021-01-20 00:00:00",
         "1",
         "39.705119565418215",
         "9.787056002698565",
         "49"
        ],
        [
         "2021-01-21 00:00:00",
         "1",
         "29.5709094703441",
         "5.026711064006547",
         "55"
        ],
        [
         "2021-01-22 00:00:00",
         "1",
         "29.486865852350324",
         "3.3373607957680607",
         "56"
        ],
        [
         "2021-01-23 00:00:00",
         "1",
         "64.62206741028878",
         "0.4279623584446923",
         "76"
        ],
        [
         "2021-01-24 00:00:00",
         "1",
         "79.02212832205385",
         "4.9074514966657965",
         "84"
        ],
        [
         "2021-01-25 00:00:00",
         "1",
         "55.362102958361",
         "8.260256519131934",
         "87"
        ],
        [
         "2021-01-26 00:00:00",
         "1",
         "24.007454170482944",
         "3.3839047853023665",
         "89"
        ],
        [
         "2021-01-27 00:00:00",
         "1",
         "90.2160673934744",
         "3.568854047152077",
         "96"
        ],
        [
         "2021-01-28 00:00:00",
         "1",
         "76.12311156966567",
         "6.180437866659868",
         "115"
        ],
        [
         "2021-01-29 00:00:00",
         "0",
         "33.82878735224835",
         "6.659678782007066",
         "8"
        ],
        [
         "2021-01-30 00:00:00",
         "1",
         "63.63862057089072",
         "7.465714378683183",
         "21"
        ],
        [
         "2021-01-31 00:00:00",
         "1",
         "92.73070151168434",
         "8.429730810631007",
         "39"
        ],
        [
         "2021-02-01 00:00:00",
         "1",
         "88.5231526775038",
         "1.5217430385773956",
         "52"
        ],
        [
         "2021-02-02 00:00:00",
         "1",
         "66.4974340556909",
         "5.913900545551172",
         "66"
        ],
        [
         "2021-02-03 00:00:00",
         "1",
         "24.461288319268306",
         "8.708534036588755",
         "87"
        ],
        [
         "2021-02-04 00:00:00",
         "1",
         "31.749176688185425",
         "6.318576681421666",
         "92"
        ],
        [
         "2021-02-05 00:00:00",
         "1",
         "96.68157465151992",
         "3.8659990505448105",
         "95"
        ],
        [
         "2021-02-06 00:00:00",
         "1",
         "97.1709108801555",
         "6.540861133115133",
         "108"
        ],
        [
         "2021-02-07 00:00:00",
         "1",
         "21.20241736042197",
         "3.808315171744261",
         "118"
        ],
        [
         "2021-02-08 00:00:00",
         "1",
         "56.26566057602788",
         "7.620197554010249",
         "132"
        ],
        [
         "2021-02-09 00:00:00",
         "1",
         "71.27716222053292",
         "8.434269398005124",
         "139"
        ],
        [
         "2021-02-10 00:00:00",
         "1",
         "46.09529931178727",
         "8.91019876526096",
         "162"
        ],
        [
         "2021-02-11 00:00:00",
         "1",
         "88.13906323293325",
         "2.899396837709344",
         "165"
        ],
        [
         "2021-02-12 00:00:00",
         "1",
         "60.02886218435422",
         "5.647597469757662",
         "189"
        ],
        [
         "2021-02-13 00:00:00",
         "1",
         "26.04979660459284",
         "8.071759362144574",
         "213"
        ],
        [
         "2021-02-14 00:00:00",
         "1",
         "99.07179431087302",
         "3.834334071859744",
         "223"
        ],
        [
         "2021-02-15 00:00:00",
         "1",
         "35.85174667296371",
         "9.478185910727255",
         "243"
        ],
        [
         "2021-02-16 00:00:00",
         "1",
         "77.19781751141761",
         "7.078284999682128",
         "262"
        ],
        [
         "2021-02-17 00:00:00",
         "0",
         "92.4425345706246",
         "7.362733426045459",
         "12"
        ],
        [
         "2021-02-18 00:00:00",
         "1",
         "69.77332165266532",
         "1.4247579940636024",
         "35"
        ],
        [
         "2021-02-19 00:00:00",
         "1",
         "78.03976172895274",
         "5.896997602326501",
         "45"
        ]
       ],
       "shape": {
        "columns": 4,
        "rows": 1461
       }
      },
      "text/html": [
       "<div>\n",
       "<style scoped>\n",
       "    .dataframe tbody tr th:only-of-type {\n",
       "        vertical-align: middle;\n",
       "    }\n",
       "\n",
       "    .dataframe tbody tr th {\n",
       "        vertical-align: top;\n",
       "    }\n",
       "\n",
       "    .dataframe thead th {\n",
       "        text-align: right;\n",
       "    }\n",
       "</style>\n",
       "<table border=\"1\" class=\"dataframe\">\n",
       "  <thead>\n",
       "    <tr style=\"text-align: right;\">\n",
       "      <th></th>\n",
       "      <th>Tipo_Mantenimiento</th>\n",
       "      <th>Temperatura_C</th>\n",
       "      <th>Vibracion_mm_s</th>\n",
       "      <th>Horas_Operativas</th>\n",
       "    </tr>\n",
       "    <tr>\n",
       "      <th>Fecha</th>\n",
       "      <th></th>\n",
       "      <th></th>\n",
       "      <th></th>\n",
       "      <th></th>\n",
       "    </tr>\n",
       "  </thead>\n",
       "  <tbody>\n",
       "    <tr>\n",
       "      <th>2021-01-01</th>\n",
       "      <td>1</td>\n",
       "      <td>66.751462</td>\n",
       "      <td>5.159466</td>\n",
       "      <td>628</td>\n",
       "    </tr>\n",
       "    <tr>\n",
       "      <th>2021-01-02</th>\n",
       "      <td>1</td>\n",
       "      <td>52.015960</td>\n",
       "      <td>5.612254</td>\n",
       "      <td>638</td>\n",
       "    </tr>\n",
       "    <tr>\n",
       "      <th>2021-01-03</th>\n",
       "      <td>1</td>\n",
       "      <td>32.920433</td>\n",
       "      <td>2.692280</td>\n",
       "      <td>654</td>\n",
       "    </tr>\n",
       "    <tr>\n",
       "      <th>2021-01-04</th>\n",
       "      <td>1</td>\n",
       "      <td>59.591049</td>\n",
       "      <td>0.682017</td>\n",
       "      <td>672</td>\n",
       "    </tr>\n",
       "    <tr>\n",
       "      <th>2021-01-05</th>\n",
       "      <td>1</td>\n",
       "      <td>36.557020</td>\n",
       "      <td>5.380131</td>\n",
       "      <td>680</td>\n",
       "    </tr>\n",
       "    <tr>\n",
       "      <th>...</th>\n",
       "      <td>...</td>\n",
       "      <td>...</td>\n",
       "      <td>...</td>\n",
       "      <td>...</td>\n",
       "    </tr>\n",
       "    <tr>\n",
       "      <th>2024-12-27</th>\n",
       "      <td>0</td>\n",
       "      <td>46.747732</td>\n",
       "      <td>0.299322</td>\n",
       "      <td>22</td>\n",
       "    </tr>\n",
       "    <tr>\n",
       "      <th>2024-12-28</th>\n",
       "      <td>1</td>\n",
       "      <td>86.514565</td>\n",
       "      <td>1.161832</td>\n",
       "      <td>29</td>\n",
       "    </tr>\n",
       "    <tr>\n",
       "      <th>2024-12-29</th>\n",
       "      <td>0</td>\n",
       "      <td>35.849285</td>\n",
       "      <td>7.549357</td>\n",
       "      <td>23</td>\n",
       "    </tr>\n",
       "    <tr>\n",
       "      <th>2024-12-30</th>\n",
       "      <td>1</td>\n",
       "      <td>63.646322</td>\n",
       "      <td>4.029486</td>\n",
       "      <td>35</td>\n",
       "    </tr>\n",
       "    <tr>\n",
       "      <th>2024-12-31</th>\n",
       "      <td>1</td>\n",
       "      <td>44.328481</td>\n",
       "      <td>3.327696</td>\n",
       "      <td>46</td>\n",
       "    </tr>\n",
       "  </tbody>\n",
       "</table>\n",
       "<p>1461 rows × 4 columns</p>\n",
       "</div>"
      ],
      "text/plain": [
       "            Tipo_Mantenimiento  Temperatura_C  Vibracion_mm_s  \\\n",
       "Fecha                                                           \n",
       "2021-01-01                   1      66.751462        5.159466   \n",
       "2021-01-02                   1      52.015960        5.612254   \n",
       "2021-01-03                   1      32.920433        2.692280   \n",
       "2021-01-04                   1      59.591049        0.682017   \n",
       "2021-01-05                   1      36.557020        5.380131   \n",
       "...                        ...            ...             ...   \n",
       "2024-12-27                   0      46.747732        0.299322   \n",
       "2024-12-28                   1      86.514565        1.161832   \n",
       "2024-12-29                   0      35.849285        7.549357   \n",
       "2024-12-30                   1      63.646322        4.029486   \n",
       "2024-12-31                   1      44.328481        3.327696   \n",
       "\n",
       "            Horas_Operativas  \n",
       "Fecha                         \n",
       "2021-01-01               628  \n",
       "2021-01-02               638  \n",
       "2021-01-03               654  \n",
       "2021-01-04               672  \n",
       "2021-01-05               680  \n",
       "...                      ...  \n",
       "2024-12-27                22  \n",
       "2024-12-28                29  \n",
       "2024-12-29                23  \n",
       "2024-12-30                35  \n",
       "2024-12-31                46  \n",
       "\n",
       "[1461 rows x 4 columns]"
      ]
     },
     "execution_count": 17,
     "metadata": {},
     "output_type": "execute_result"
    }
   ],
   "source": [
    "from sklearn.preprocessing import LabelEncoder\n",
    "\n",
    "# Crear un codificador para la columna Tipo_Mantenimiento\n",
    "label_encoder = LabelEncoder()\n",
    "\n",
    "# Transformar la columna Tipo_Mantenimiento en valores numéricos\n",
    "mantenimiento_df_1['Tipo_Mantenimiento'] = label_encoder.fit_transform(mantenimiento_df_1['Tipo_Mantenimiento'])\n",
    "\n",
    "# Verificar la transformación\n",
    "mantenimiento_df_1"
   ]
  },
  {
   "cell_type": "code",
   "execution_count": 37,
   "metadata": {},
   "outputs": [
    {
     "name": "stdout",
     "output_type": "stream",
     "text": [
      "Fechas train : 2021-01-01 00:00:00 --- 2024-08-03 00:00:00  (n=1311)\n",
      "Fechas test  : 2024-08-04 00:00:00 --- 2024-12-31 00:00:00  (n=150)\n"
     ]
    },
    {
     "data": {
      "image/png": "[encoded data removed]",
      "text/plain": [
       "<Figure size 600x250 with 1 Axes>"
      ]
     },
     "metadata": {},
     "output_type": "display_data"
    }
   ],
   "source": [
    "# Separación datos train-test\n",
    "\n",
    "steps = 150\n",
    "datos_train = mantenimiento_df_1[:-steps]\n",
    "datos_test  = mantenimiento_df_1[-steps:]\n",
    "print(f\"Fechas train : {datos_train.index.min()} --- {datos_train.index.max()}  (n={len(datos_train)})\")\n",
    "print(f\"Fechas test  : {datos_test.index.min()} --- {datos_test.index.max()}  (n={len(datos_test)})\")\n",
    "\n",
    "fig, ax = plt.subplots(figsize=(6, 2.5))\n",
    "datos_train['Horas_Operativas'].plot(ax=ax, label='train')\n",
    "datos_test['Horas_Operativas'].plot(ax=ax, label='test')\n",
    "ax.legend();"
   ]
  },
  {
   "cell_type": "code",
   "execution_count": 59,
   "metadata": {},
   "outputs": [
    {
     "data": {
      "text/html": [
       "\n",
       "    <style>\n",
       "        .container-038161384d394d949aee3d38d8d882cb {\n",
       "            font-family: 'Arial', sans-serif;\n",
       "            font-size: 0.9em;\n",
       "            color: #333333;\n",
       "            border: 1px solid #ddd;\n",
       "            background-color: #f0f8ff;\n",
       "            padding: 5px 15px;\n",
       "            border-radius: 8px;\n",
       "            max-width: 600px;\n",
       "            #margin: auto;\n",
       "        }\n",
       "        .container-038161384d394d949aee3d38d8d882cb h2 {\n",
       "            font-size: 1.5em;\n",
       "            color: #222222;\n",
       "            border-bottom: 2px solid #ddd;\n",
       "            padding-bottom: 5px;\n",
       "            margin-bottom: 15px;\n",
       "            margin-top: 5px;\n",
       "        }\n",
       "        .container-038161384d394d949aee3d38d8d882cb details {\n",
       "            margin: 10px 0;\n",
       "        }\n",
       "        .container-038161384d394d949aee3d38d8d882cb summary {\n",
       "            font-weight: bold;\n",
       "            font-size: 1.1em;\n",
       "            color: #000000;\n",
       "            cursor: pointer;\n",
       "            margin-bottom: 5px;\n",
       "            background-color: #b3dbfd;\n",
       "            padding: 5px;\n",
       "            border-radius: 5px;\n",
       "        }\n",
       "        .container-038161384d394d949aee3d38d8d882cb summary:hover {\n",
       "            color: #000000;\n",
       "            background-color: #e0e0e0;\n",
       "        }\n",
       "        .container-038161384d394d949aee3d38d8d882cb ul {\n",
       "            font-family: 'Courier New', monospace;\n",
       "            list-style-type: none;\n",
       "            padding-left: 20px;\n",
       "            margin: 10px 0;\n",
       "            line-height: normal;\n",
       "        }\n",
       "        .container-038161384d394d949aee3d38d8d882cb li {\n",
       "            margin: 5px 0;\n",
       "            font-family: 'Courier New', monospace;\n",
       "        }\n",
       "        .container-038161384d394d949aee3d38d8d882cb li strong {\n",
       "            font-weight: bold;\n",
       "            color: #444444;\n",
       "        }\n",
       "        .container-038161384d394d949aee3d38d8d882cb li::before {\n",
       "            content: \"- \";\n",
       "            color: #666666;\n",
       "        }\n",
       "        .container-038161384d394d949aee3d38d8d882cb a {\n",
       "            color: #001633;\n",
       "            text-decoration: none;\n",
       "        }\n",
       "        .container-038161384d394d949aee3d38d8d882cb a:hover {\n",
       "            color: #359ccb; \n",
       "        }\n",
       "    </style>\n",
       "    \n",
       "        <div class=\"container-038161384d394d949aee3d38d8d882cb\">\n",
       "            <h2>ForecasterDirect</h2>\n",
       "            <details open>\n",
       "                <summary>General Information</summary>\n",
       "                <ul>\n",
       "                    <li><strong>Regressor:</strong> Lasso</li>\n",
       "                    <li><strong>Lags:</strong> [ 1  2  3  4  5  6  7  8  9 10]</li>\n",
       "                    <li><strong>Window features:</strong> None</li>\n",
       "                    <li><strong>Window size:</strong> 10</li>\n",
       "                    <li><strong>Maximum steps to predict:</strong> 150</li>\n",
       "                    <li><strong>Exogenous included:</strong> False</li>\n",
       "                    <li><strong>Weight function included:</strong> False</li>\n",
       "                    <li><strong>Differentiation order:</strong> None</li>\n",
       "                    <li><strong>Creation date:</strong> 2025-04-24 13:22:51</li>\n",
       "                    <li><strong>Last fit date:</strong> 2025-04-24 13:22:52</li>\n",
       "                    <li><strong>Skforecast version:</strong> 0.15.1</li>\n",
       "                    <li><strong>Python version:</strong> 3.10.11</li>\n",
       "                    <li><strong>Forecaster id:</strong> None</li>\n",
       "                </ul>\n",
       "            </details>\n",
       "            <details>\n",
       "                <summary>Exogenous Variables</summary>\n",
       "                <ul>\n",
       "                    None\n",
       "                </ul>\n",
       "            </details>\n",
       "            <details>\n",
       "                <summary>Data Transformations</summary>\n",
       "                <ul>\n",
       "                    <li><strong>Transformer for y:</strong> StandardScaler()</li>\n",
       "                    <li><strong>Transformer for exog:</strong> None</li>\n",
       "                </ul>\n",
       "            </details>\n",
       "            <details>\n",
       "                <summary>Training Information</summary>\n",
       "                <ul>\n",
       "                    <li><strong>Training range:</strong> [Timestamp('2021-01-01 00:00:00'), Timestamp('2024-08-03 00:00:00')]</li>\n",
       "                    <li><strong>Training index type:</strong> DatetimeIndex</li>\n",
       "                    <li><strong>Training index frequency:</strong> D</li>\n",
       "                </ul>\n",
       "            </details>\n",
       "            <details>\n",
       "                <summary>Regressor Parameters</summary>\n",
       "                <ul>\n",
       "                    {'alpha': 1.0, 'copy_X': True, 'fit_intercept': True, 'max_iter': 1000, 'positive': False, 'precompute': False, 'random_state': 123, 'selection': 'cyclic', 'tol': 0.0001, 'warm_start': False}\n",
       "                </ul>\n",
       "            </details>\n",
       "            <details>\n",
       "                <summary>Fit Kwargs</summary>\n",
       "                <ul>\n",
       "                    {}\n",
       "                </ul>\n",
       "            </details>\n",
       "            <p>\n",
       "                <a href=\"https://skforecast.org/0.15.1/api/forecasterdirect.html\">&#128712 <strong>API Reference</strong></a>\n",
       "                &nbsp;&nbsp;\n",
       "                <a href=\"https://skforecast.org/0.15.1/user_guides/direct-multi-step-forecasting.html\">&#128462 <strong>User Guide</strong></a>\n",
       "            </p>\n",
       "        </div>\n",
       "        "
      ],
      "text/plain": [
       "================ \n",
       "ForecasterDirect \n",
       "================ \n",
       "Regressor: Lasso \n",
       "Lags: [ 1  2  3  4  5  6  7  8  9 10] \n",
       "Window features: None \n",
       "Window size: 10 \n",
       "Maximum steps to predict: 150 \n",
       "Exogenous included: False \n",
       "Exogenous names: None \n",
       "Transformer for y: StandardScaler() \n",
       "Transformer for exog: None \n",
       "Weight function included: False \n",
       "Differentiation order: None \n",
       "Training range: [Timestamp('2021-01-01 00:00:00'), Timestamp('2024-08-03 00:00:00')] \n",
       "Training index type: DatetimeIndex \n",
       "Training index frequency: D \n",
       "Regressor parameters: \n",
       "    {'alpha': 1.0, 'copy_X': True, 'fit_intercept': True, 'max_iter': 1000,\n",
       "    'positive': False, 'precompute': False, 'random_state': 123, 'selection':\n",
       "    'cyclic', 'tol': 0.0001, 'warm_start': False} \n",
       "fit_kwargs: {} \n",
       "Creation date: 2025-04-24 13:22:51 \n",
       "Last fit date: 2025-04-24 13:22:52 \n",
       "Skforecast version: 0.15.1 \n",
       "Python version: 3.10.11 \n",
       "Forecaster id: None "
      ]
     },
     "execution_count": 59,
     "metadata": {},
     "output_type": "execute_result"
    }
   ],
   "source": [
    "# Crear y entrenar forecaster\n",
    "\n",
    "forecaster = ForecasterDirect(\n",
    "    regressor=Lasso(random_state=123),\n",
    "    transformer_y=StandardScaler(),\n",
    "    steps=150,\n",
    "    lags=10\n",
    "    )\n",
    "\n",
    "forecaster.fit(y=datos_train['Horas_Operativas'])\n",
    "forecaster"
   ]
  },
  {
   "cell_type": "code",
   "execution_count": 60,
   "metadata": {},
   "outputs": [
    {
     "data": {
      "text/plain": [
       "2024-08-04    235.705729\n",
       "2024-08-05    235.122396\n",
       "2024-08-06    234.537326\n",
       "2024-08-07    233.955729\n",
       "2024-08-08    233.380208\n",
       "Freq: D, Name: pred, dtype: float64"
      ]
     },
     "execution_count": 60,
     "metadata": {},
     "output_type": "execute_result"
    }
   ],
   "source": [
    "# Predicciones\n",
    "\n",
    "steps = 150\n",
    "predicciones = forecaster.predict(steps=steps)\n",
    "predicciones.head(5)"
   ]
  },
  {
   "cell_type": "code",
   "execution_count": 61,
   "metadata": {},
   "outputs": [
    {
     "data": {
      "text/plain": [
       "<matplotlib.legend.Legend at 0x2269c228ca0>"
      ]
     },
     "execution_count": 61,
     "metadata": {},
     "output_type": "execute_result"
    },
    {
     "data": {
      "image/png": "[encoded data removed]",
      "text/plain": [
       "<Figure size 600x250 with 1 Axes>"
      ]
     },
     "metadata": {},
     "output_type": "display_data"
    }
   ],
   "source": [
    "# Gráfico de predicciones vs valores reales\n",
    "\n",
    "fig, ax = plt.subplots(figsize=(6, 2.5))\n",
    "datos_train['Horas_Operativas'].plot(ax=ax, label='train')\n",
    "datos_test['Horas_Operativas'].plot(ax=ax, label='test')\n",
    "predicciones.plot(ax=ax, label='predicciones')\n",
    "ax.legend()"
   ]
  },
  {
   "cell_type": "code",
   "execution_count": 62,
   "metadata": {},
   "outputs": [
    {
     "name": "stdout",
     "output_type": "stream",
     "text": [
      "Error de test (mse): 22978.130639899613\n",
      "Varianza de los valores reales: 12234.045861297536\n"
     ]
    }
   ],
   "source": [
    "# Error test\n",
    "error_mse = mean_squared_error(\n",
    "    y_true=datos_test['Horas_Operativas'],\n",
    "    y_pred=predicciones\n",
    ")\n",
    "\n",
    "# Varianza de los valores reales\n",
    "varianza = datos_test['Horas_Operativas'].var()\n",
    "\n",
    "print(f\"Error de test (mse): {error_mse}\")\n",
    "print(f\"Varianza de los valores reales: {varianza}\")"
   ]
  },
  {
   "cell_type": "code",
   "execution_count": 23,
   "metadata": {},
   "outputs": [
    {
     "data": {
      "image/png": "[encoded data removed]",
      "text/plain": [
       "<Figure size 600x250 with 2 Axes>"
      ]
     },
     "metadata": {},
     "output_type": "display_data"
    }
   ],
   "source": [
    "# Preparación del dato con escalas de y independientes\n",
    "\n",
    "fig, ax1 = plt.subplots(figsize=(6, 2.5))\n",
    "\n",
    "# Primer eje y para 'Horas_Operativas'\n",
    "ax1.plot(mantenimiento_df_1.index, mantenimiento_df_1['Horas_Operativas'], label='Horas_Operativas', color='blue')\n",
    "ax1.set_ylabel('Horas_Operativas', color='blue')\n",
    "ax1.tick_params(axis='y', labelcolor='blue')\n",
    "\n",
    "# Segundo eje y para 'Vibracion_mm_s'\n",
    "ax2 = ax1.twinx()\n",
    "ax2.plot(mantenimiento_df_1.index, mantenimiento_df_1['Vibracion_mm_s'], label='Vibracion_mm_s', color='orange')\n",
    "ax2.set_ylabel('Vibracion_mm_s', color='orange')\n",
    "ax2.tick_params(axis='y', labelcolor='orange')\n",
    "\n",
    "# Leyenda y título\n",
    "fig.legend(loc='upper left', bbox_to_anchor=(0.1, 0.9))\n",
    "plt.title('Horas_Operativas y Vibracion_mm_s')\n",
    "plt.show()"
   ]
  },
  {
   "cell_type": "code",
   "execution_count": 63,
   "metadata": {},
   "outputs": [
    {
     "data": {
      "text/html": [
       "\n",
       "    <style>\n",
       "        .container-3d6caec09c4e46df8425a7725226fb0a {\n",
       "            font-family: 'Arial', sans-serif;\n",
       "            font-size: 0.9em;\n",
       "            color: #333333;\n",
       "            border: 1px solid #ddd;\n",
       "            background-color: #f0f8ff;\n",
       "            padding: 5px 15px;\n",
       "            border-radius: 8px;\n",
       "            max-width: 600px;\n",
       "            #margin: auto;\n",
       "        }\n",
       "        .container-3d6caec09c4e46df8425a7725226fb0a h2 {\n",
       "            font-size: 1.5em;\n",
       "            color: #222222;\n",
       "            border-bottom: 2px solid #ddd;\n",
       "            padding-bottom: 5px;\n",
       "            margin-bottom: 15px;\n",
       "            margin-top: 5px;\n",
       "        }\n",
       "        .container-3d6caec09c4e46df8425a7725226fb0a details {\n",
       "            margin: 10px 0;\n",
       "        }\n",
       "        .container-3d6caec09c4e46df8425a7725226fb0a summary {\n",
       "            font-weight: bold;\n",
       "            font-size: 1.1em;\n",
       "            color: #000000;\n",
       "            cursor: pointer;\n",
       "            margin-bottom: 5px;\n",
       "            background-color: #b3dbfd;\n",
       "            padding: 5px;\n",
       "            border-radius: 5px;\n",
       "        }\n",
       "        .container-3d6caec09c4e46df8425a7725226fb0a summary:hover {\n",
       "            color: #000000;\n",
       "            background-color: #e0e0e0;\n",
       "        }\n",
       "        .container-3d6caec09c4e46df8425a7725226fb0a ul {\n",
       "            font-family: 'Courier New', monospace;\n",
       "            list-style-type: none;\n",
       "            padding-left: 20px;\n",
       "            margin: 10px 0;\n",
       "            line-height: normal;\n",
       "        }\n",
       "        .container-3d6caec09c4e46df8425a7725226fb0a li {\n",
       "            margin: 5px 0;\n",
       "            font-family: 'Courier New', monospace;\n",
       "        }\n",
       "        .container-3d6caec09c4e46df8425a7725226fb0a li strong {\n",
       "            font-weight: bold;\n",
       "            color: #444444;\n",
       "        }\n",
       "        .container-3d6caec09c4e46df8425a7725226fb0a li::before {\n",
       "            content: \"- \";\n",
       "            color: #666666;\n",
       "        }\n",
       "        .container-3d6caec09c4e46df8425a7725226fb0a a {\n",
       "            color: #001633;\n",
       "            text-decoration: none;\n",
       "        }\n",
       "        .container-3d6caec09c4e46df8425a7725226fb0a a:hover {\n",
       "            color: #359ccb; \n",
       "        }\n",
       "    </style>\n",
       "    \n",
       "        <div class=\"container-3d6caec09c4e46df8425a7725226fb0a\">\n",
       "            <h2>ForecasterDirect</h2>\n",
       "            <details open>\n",
       "                <summary>General Information</summary>\n",
       "                <ul>\n",
       "                    <li><strong>Regressor:</strong> Lasso</li>\n",
       "                    <li><strong>Lags:</strong> [ 1  2  3  4  5  6  7  8  9 10]</li>\n",
       "                    <li><strong>Window features:</strong> None</li>\n",
       "                    <li><strong>Window size:</strong> 10</li>\n",
       "                    <li><strong>Maximum steps to predict:</strong> 150</li>\n",
       "                    <li><strong>Exogenous included:</strong> True</li>\n",
       "                    <li><strong>Weight function included:</strong> False</li>\n",
       "                    <li><strong>Differentiation order:</strong> None</li>\n",
       "                    <li><strong>Creation date:</strong> 2025-04-24 13:23:17</li>\n",
       "                    <li><strong>Last fit date:</strong> 2025-04-24 13:23:18</li>\n",
       "                    <li><strong>Skforecast version:</strong> 0.15.1</li>\n",
       "                    <li><strong>Python version:</strong> 3.10.11</li>\n",
       "                    <li><strong>Forecaster id:</strong> None</li>\n",
       "                </ul>\n",
       "            </details>\n",
       "            <details>\n",
       "                <summary>Exogenous Variables</summary>\n",
       "                <ul>\n",
       "                    Vibracion_mm_s\n",
       "                </ul>\n",
       "            </details>\n",
       "            <details>\n",
       "                <summary>Data Transformations</summary>\n",
       "                <ul>\n",
       "                    <li><strong>Transformer for y:</strong> StandardScaler()</li>\n",
       "                    <li><strong>Transformer for exog:</strong> None</li>\n",
       "                </ul>\n",
       "            </details>\n",
       "            <details>\n",
       "                <summary>Training Information</summary>\n",
       "                <ul>\n",
       "                    <li><strong>Training range:</strong> [Timestamp('2021-01-01 00:00:00'), Timestamp('2024-08-03 00:00:00')]</li>\n",
       "                    <li><strong>Training index type:</strong> DatetimeIndex</li>\n",
       "                    <li><strong>Training index frequency:</strong> D</li>\n",
       "                </ul>\n",
       "            </details>\n",
       "            <details>\n",
       "                <summary>Regressor Parameters</summary>\n",
       "                <ul>\n",
       "                    {'alpha': 1.0, 'copy_X': True, 'fit_intercept': True, 'max_iter': 1000, 'positive': False, 'precompute': False, 'random_state': 123, 'selection': 'cyclic', 'tol': 0.0001, 'warm_start': False}\n",
       "                </ul>\n",
       "            </details>\n",
       "            <details>\n",
       "                <summary>Fit Kwargs</summary>\n",
       "                <ul>\n",
       "                    {}\n",
       "                </ul>\n",
       "            </details>\n",
       "            <p>\n",
       "                <a href=\"https://skforecast.org/0.15.1/api/forecasterdirect.html\">&#128712 <strong>API Reference</strong></a>\n",
       "                &nbsp;&nbsp;\n",
       "                <a href=\"https://skforecast.org/0.15.1/user_guides/direct-multi-step-forecasting.html\">&#128462 <strong>User Guide</strong></a>\n",
       "            </p>\n",
       "        </div>\n",
       "        "
      ],
      "text/plain": [
       "================ \n",
       "ForecasterDirect \n",
       "================ \n",
       "Regressor: Lasso \n",
       "Lags: [ 1  2  3  4  5  6  7  8  9 10] \n",
       "Window features: None \n",
       "Window size: 10 \n",
       "Maximum steps to predict: 150 \n",
       "Exogenous included: True \n",
       "Exogenous names: Vibracion_mm_s \n",
       "Transformer for y: StandardScaler() \n",
       "Transformer for exog: None \n",
       "Weight function included: False \n",
       "Differentiation order: None \n",
       "Training range: [Timestamp('2021-01-01 00:00:00'), Timestamp('2024-08-03 00:00:00')] \n",
       "Training index type: DatetimeIndex \n",
       "Training index frequency: D \n",
       "Regressor parameters: \n",
       "    {'alpha': 1.0, 'copy_X': True, 'fit_intercept': True, 'max_iter': 1000,\n",
       "    'positive': False, 'precompute': False, 'random_state': 123, 'selection':\n",
       "    'cyclic', 'tol': 0.0001, 'warm_start': False} \n",
       "fit_kwargs: {} \n",
       "Creation date: 2025-04-24 13:23:17 \n",
       "Last fit date: 2025-04-24 13:23:18 \n",
       "Skforecast version: 0.15.1 \n",
       "Python version: 3.10.11 \n",
       "Forecaster id: None "
      ]
     },
     "execution_count": 63,
     "metadata": {},
     "output_type": "execute_result"
    }
   ],
   "source": [
    "# Crear y entrenar forecaster\n",
    "\n",
    "forecaster = ForecasterDirect(\n",
    "    regressor=Lasso(random_state=123),\n",
    "    transformer_y=StandardScaler(),\n",
    "    steps=150,\n",
    "    lags=10\n",
    "    )\n",
    "\n",
    "forecaster.fit(y=datos_train['Horas_Operativas'], exog=datos_train['Vibracion_mm_s'])\n",
    "\n",
    "forecaster"
   ]
  },
  {
   "cell_type": "code",
   "execution_count": 64,
   "metadata": {},
   "outputs": [],
   "source": [
    "# Predicciones\n",
    "\n",
    "predicciones = forecaster.predict(steps=steps, exog=datos_test['Vibracion_mm_s'])"
   ]
  },
  {
   "cell_type": "code",
   "execution_count": 65,
   "metadata": {},
   "outputs": [
    {
     "data": {
      "image/png": "[encoded data removed]",
      "text/plain": [
       "<Figure size 600x250 with 1 Axes>"
      ]
     },
     "metadata": {},
     "output_type": "display_data"
    }
   ],
   "source": [
    "# Gráfico predicciones vs valores reales\n",
    "\n",
    "fig, ax = plt.subplots(figsize=(6, 2.5))\n",
    "datos_train['Horas_Operativas'].plot(ax=ax, label='train')\n",
    "datos_test['Horas_Operativas'].plot(ax=ax, label='test')\n",
    "\n",
    "predicciones.plot(ax=ax, label='predicciones', color='orange')\n",
    "ax.legend();"
   ]
  },
  {
   "cell_type": "code",
   "execution_count": 66,
   "metadata": {},
   "outputs": [
    {
     "data": {
      "application/vnd.microsoft.datawrangler.viewer.v0+json": {
       "columns": [
        {
         "name": "index",
         "rawType": "int64",
         "type": "integer"
        },
        {
         "name": "feature",
         "rawType": "object",
         "type": "string"
        },
        {
         "name": "importance",
         "rawType": "float64",
         "type": "float"
        }
       ],
       "conversionMethod": "pd.DataFrame",
       "ref": "84dbec1a-acd7-4761-9ab6-bc86964bb1d2",
       "rows": [
        [
         "0",
         "lag_1",
         "0.0"
        ],
        [
         "1",
         "lag_2",
         "0.0"
        ],
        [
         "2",
         "lag_3",
         "0.0"
        ],
        [
         "3",
         "lag_4",
         "0.0"
        ],
        [
         "4",
         "lag_5",
         "0.0"
        ],
        [
         "5",
         "lag_6",
         "0.0"
        ],
        [
         "6",
         "lag_7",
         "0.0"
        ],
        [
         "7",
         "lag_8",
         "0.0"
        ],
        [
         "8",
         "lag_9",
         "0.0"
        ],
        [
         "9",
         "lag_10",
         "0.0"
        ],
        [
         "10",
         "Vibracion_mm_s",
         "0.0"
        ]
       ],
       "shape": {
        "columns": 2,
        "rows": 11
       }
      },
      "text/html": [
       "<div>\n",
       "<style scoped>\n",
       "    .dataframe tbody tr th:only-of-type {\n",
       "        vertical-align: middle;\n",
       "    }\n",
       "\n",
       "    .dataframe tbody tr th {\n",
       "        vertical-align: top;\n",
       "    }\n",
       "\n",
       "    .dataframe thead th {\n",
       "        text-align: right;\n",
       "    }\n",
       "</style>\n",
       "<table border=\"1\" class=\"dataframe\">\n",
       "  <thead>\n",
       "    <tr style=\"text-align: right;\">\n",
       "      <th></th>\n",
       "      <th>feature</th>\n",
       "      <th>importance</th>\n",
       "    </tr>\n",
       "  </thead>\n",
       "  <tbody>\n",
       "    <tr>\n",
       "      <th>0</th>\n",
       "      <td>lag_1</td>\n",
       "      <td>0.0</td>\n",
       "    </tr>\n",
       "    <tr>\n",
       "      <th>1</th>\n",
       "      <td>lag_2</td>\n",
       "      <td>0.0</td>\n",
       "    </tr>\n",
       "    <tr>\n",
       "      <th>2</th>\n",
       "      <td>lag_3</td>\n",
       "      <td>0.0</td>\n",
       "    </tr>\n",
       "    <tr>\n",
       "      <th>3</th>\n",
       "      <td>lag_4</td>\n",
       "      <td>0.0</td>\n",
       "    </tr>\n",
       "    <tr>\n",
       "      <th>4</th>\n",
       "      <td>lag_5</td>\n",
       "      <td>0.0</td>\n",
       "    </tr>\n",
       "    <tr>\n",
       "      <th>5</th>\n",
       "      <td>lag_6</td>\n",
       "      <td>0.0</td>\n",
       "    </tr>\n",
       "    <tr>\n",
       "      <th>6</th>\n",
       "      <td>lag_7</td>\n",
       "      <td>0.0</td>\n",
       "    </tr>\n",
       "    <tr>\n",
       "      <th>7</th>\n",
       "      <td>lag_8</td>\n",
       "      <td>0.0</td>\n",
       "    </tr>\n",
       "    <tr>\n",
       "      <th>8</th>\n",
       "      <td>lag_9</td>\n",
       "      <td>0.0</td>\n",
       "    </tr>\n",
       "    <tr>\n",
       "      <th>9</th>\n",
       "      <td>lag_10</td>\n",
       "      <td>0.0</td>\n",
       "    </tr>\n",
       "    <tr>\n",
       "      <th>10</th>\n",
       "      <td>Vibracion_mm_s</td>\n",
       "      <td>0.0</td>\n",
       "    </tr>\n",
       "  </tbody>\n",
       "</table>\n",
       "</div>"
      ],
      "text/plain": [
       "           feature  importance\n",
       "0            lag_1         0.0\n",
       "1            lag_2         0.0\n",
       "2            lag_3         0.0\n",
       "3            lag_4         0.0\n",
       "4            lag_5         0.0\n",
       "5            lag_6         0.0\n",
       "6            lag_7         0.0\n",
       "7            lag_8         0.0\n",
       "8            lag_9         0.0\n",
       "9           lag_10         0.0\n",
       "10  Vibracion_mm_s         0.0"
      ]
     },
     "execution_count": 66,
     "metadata": {},
     "output_type": "execute_result"
    }
   ],
   "source": [
    "# Specify the step for which you want to calculate feature importances\n",
    "step = 1  # Replace with the desired step number\n",
    "importancia = forecaster.get_feature_importances(step=step)\n",
    "importancia"
   ]
  },
  {
   "cell_type": "code",
   "execution_count": 68,
   "metadata": {},
   "outputs": [
    {
     "data": {
      "application/vnd.jupyter.widget-view+json": {
       "model_id": "995e8daaccbb428a8b6bc4edab4b7cae",
       "version_major": 2,
       "version_minor": 0
      },
      "text/plain": [
       "lags grid:   0%|          | 0/3 [00:00<?, ?it/s]"
      ]
     },
     "metadata": {},
     "output_type": "display_data"
    },
    {
     "data": {
      "application/vnd.jupyter.widget-view+json": {
       "model_id": "deed2673353a461bbb08c1e229ed2228",
       "version_major": 2,
       "version_minor": 0
      },
      "text/plain": [
       "params grid:   0%|          | 0/10 [00:00<?, ?it/s]"
      ]
     },
     "metadata": {},
     "output_type": "display_data"
    },
    {
     "name": "stdout",
     "output_type": "stream",
     "text": [
      "`Forecaster` refitted using the best-found lags and parameters, and the whole data set: \n",
      "  Lags: [1 2 3 4 5] \n",
      "  Parameters: {'alpha': 1e-05}\n",
      "  Backtesting metric: 35871.54741824673\n"
     ]
    }
   ],
   "source": [
    "# Búsqueda de hiperparámetros\n",
    "\n",
    "from skforecast.exceptions import LongTrainingWarning\n",
    "warnings.simplefilter('ignore', category=LongTrainingWarning)\n",
    "\n",
    "forecaster = ForecasterDirect(\n",
    "    regressor=Lasso(random_state=123),\n",
    "    transformer_y=StandardScaler(),\n",
    "    steps=150,\n",
    "    lags=50  # Este valor será remplazado en el grid search\n",
    ")\n",
    "\n",
    "cv = TimeSeriesFold(\n",
    "    steps=150,\n",
    "    initial_train_size=int(len(datos_train) * 0.5),\n",
    "    fixed_train_size=False,\n",
    "    refit=False,\n",
    ")\n",
    "\n",
    "param_grid = {'alpha': np.logspace(-5, 5, 10)}\n",
    "\n",
    "lags_grid = [5, 20, 50]\n",
    "\n",
    "resultados_grid = grid_search_forecaster(\n",
    "    forecaster=forecaster,\n",
    "    y=datos_train['Horas_Operativas'],\n",
    "    cv=cv,\n",
    "    param_grid=param_grid,\n",
    "    lags_grid=lags_grid,\n",
    "    metric='mean_squared_error',\n",
    "    return_best=True,\n",
    "    n_jobs='auto',\n",
    "    verbose=False\n",
    ")"
   ]
  },
  {
   "cell_type": "code",
   "execution_count": 69,
   "metadata": {},
   "outputs": [
    {
     "data": {
      "text/html": [
       "\n",
       "    <style>\n",
       "        .container-cc9e8242199949b6b097f8c270608c90 {\n",
       "            font-family: 'Arial', sans-serif;\n",
       "            font-size: 0.9em;\n",
       "            color: #333333;\n",
       "            border: 1px solid #ddd;\n",
       "            background-color: #f0f8ff;\n",
       "            padding: 5px 15px;\n",
       "            border-radius: 8px;\n",
       "            max-width: 600px;\n",
       "            #margin: auto;\n",
       "        }\n",
       "        .container-cc9e8242199949b6b097f8c270608c90 h2 {\n",
       "            font-size: 1.5em;\n",
       "            color: #222222;\n",
       "            border-bottom: 2px solid #ddd;\n",
       "            padding-bottom: 5px;\n",
       "            margin-bottom: 15px;\n",
       "            margin-top: 5px;\n",
       "        }\n",
       "        .container-cc9e8242199949b6b097f8c270608c90 details {\n",
       "            margin: 10px 0;\n",
       "        }\n",
       "        .container-cc9e8242199949b6b097f8c270608c90 summary {\n",
       "            font-weight: bold;\n",
       "            font-size: 1.1em;\n",
       "            color: #000000;\n",
       "            cursor: pointer;\n",
       "            margin-bottom: 5px;\n",
       "            background-color: #b3dbfd;\n",
       "            padding: 5px;\n",
       "            border-radius: 5px;\n",
       "        }\n",
       "        .container-cc9e8242199949b6b097f8c270608c90 summary:hover {\n",
       "            color: #000000;\n",
       "            background-color: #e0e0e0;\n",
       "        }\n",
       "        .container-cc9e8242199949b6b097f8c270608c90 ul {\n",
       "            font-family: 'Courier New', monospace;\n",
       "            list-style-type: none;\n",
       "            padding-left: 20px;\n",
       "            margin: 10px 0;\n",
       "            line-height: normal;\n",
       "        }\n",
       "        .container-cc9e8242199949b6b097f8c270608c90 li {\n",
       "            margin: 5px 0;\n",
       "            font-family: 'Courier New', monospace;\n",
       "        }\n",
       "        .container-cc9e8242199949b6b097f8c270608c90 li strong {\n",
       "            font-weight: bold;\n",
       "            color: #444444;\n",
       "        }\n",
       "        .container-cc9e8242199949b6b097f8c270608c90 li::before {\n",
       "            content: \"- \";\n",
       "            color: #666666;\n",
       "        }\n",
       "        .container-cc9e8242199949b6b097f8c270608c90 a {\n",
       "            color: #001633;\n",
       "            text-decoration: none;\n",
       "        }\n",
       "        .container-cc9e8242199949b6b097f8c270608c90 a:hover {\n",
       "            color: #359ccb; \n",
       "        }\n",
       "    </style>\n",
       "    \n",
       "        <div class=\"container-cc9e8242199949b6b097f8c270608c90\">\n",
       "            <h2>ForecasterDirect</h2>\n",
       "            <details open>\n",
       "                <summary>General Information</summary>\n",
       "                <ul>\n",
       "                    <li><strong>Regressor:</strong> Lasso</li>\n",
       "                    <li><strong>Lags:</strong> [1 2 3 4 5]</li>\n",
       "                    <li><strong>Window features:</strong> None</li>\n",
       "                    <li><strong>Window size:</strong> 5</li>\n",
       "                    <li><strong>Maximum steps to predict:</strong> 150</li>\n",
       "                    <li><strong>Exogenous included:</strong> True</li>\n",
       "                    <li><strong>Weight function included:</strong> False</li>\n",
       "                    <li><strong>Differentiation order:</strong> None</li>\n",
       "                    <li><strong>Creation date:</strong> 2025-04-24 13:24:26</li>\n",
       "                    <li><strong>Last fit date:</strong> 2025-04-24 13:24:27</li>\n",
       "                    <li><strong>Skforecast version:</strong> 0.15.1</li>\n",
       "                    <li><strong>Python version:</strong> 3.10.11</li>\n",
       "                    <li><strong>Forecaster id:</strong> None</li>\n",
       "                </ul>\n",
       "            </details>\n",
       "            <details>\n",
       "                <summary>Exogenous Variables</summary>\n",
       "                <ul>\n",
       "                    Vibracion_mm_s\n",
       "                </ul>\n",
       "            </details>\n",
       "            <details>\n",
       "                <summary>Data Transformations</summary>\n",
       "                <ul>\n",
       "                    <li><strong>Transformer for y:</strong> StandardScaler()</li>\n",
       "                    <li><strong>Transformer for exog:</strong> None</li>\n",
       "                </ul>\n",
       "            </details>\n",
       "            <details>\n",
       "                <summary>Training Information</summary>\n",
       "                <ul>\n",
       "                    <li><strong>Training range:</strong> [Timestamp('2021-01-01 00:00:00'), Timestamp('2024-08-03 00:00:00')]</li>\n",
       "                    <li><strong>Training index type:</strong> DatetimeIndex</li>\n",
       "                    <li><strong>Training index frequency:</strong> D</li>\n",
       "                </ul>\n",
       "            </details>\n",
       "            <details>\n",
       "                <summary>Regressor Parameters</summary>\n",
       "                <ul>\n",
       "                    {'alpha': 1e-05, 'copy_X': True, 'fit_intercept': True, 'max_iter': 1000, 'positive': False, 'precompute': False, 'random_state': 123, 'selection': 'cyclic', 'tol': 0.0001, 'warm_start': False}\n",
       "                </ul>\n",
       "            </details>\n",
       "            <details>\n",
       "                <summary>Fit Kwargs</summary>\n",
       "                <ul>\n",
       "                    {}\n",
       "                </ul>\n",
       "            </details>\n",
       "            <p>\n",
       "                <a href=\"https://skforecast.org/0.15.1/api/forecasterdirect.html\">&#128712 <strong>API Reference</strong></a>\n",
       "                &nbsp;&nbsp;\n",
       "                <a href=\"https://skforecast.org/0.15.1/user_guides/direct-multi-step-forecasting.html\">&#128462 <strong>User Guide</strong></a>\n",
       "            </p>\n",
       "        </div>\n",
       "        "
      ],
      "text/plain": [
       "================ \n",
       "ForecasterDirect \n",
       "================ \n",
       "Regressor: Lasso \n",
       "Lags: [1 2 3 4 5] \n",
       "Window features: None \n",
       "Window size: 5 \n",
       "Maximum steps to predict: 150 \n",
       "Exogenous included: True \n",
       "Exogenous names: Vibracion_mm_s \n",
       "Transformer for y: StandardScaler() \n",
       "Transformer for exog: None \n",
       "Weight function included: False \n",
       "Differentiation order: None \n",
       "Training range: [Timestamp('2021-01-01 00:00:00'), Timestamp('2024-08-03 00:00:00')] \n",
       "Training index type: DatetimeIndex \n",
       "Training index frequency: D \n",
       "Regressor parameters: \n",
       "    {'alpha': 1e-05, 'copy_X': True, 'fit_intercept': True, 'max_iter': 1000,\n",
       "    'positive': False, 'precompute': False, 'random_state': 123, 'selection':\n",
       "    'cyclic', 'tol': 0.0001, 'warm_start': False} \n",
       "fit_kwargs: {} \n",
       "Creation date: 2025-04-24 13:24:26 \n",
       "Last fit date: 2025-04-24 13:24:27 \n",
       "Skforecast version: 0.15.1 \n",
       "Python version: 3.10.11 \n",
       "Forecaster id: None "
      ]
     },
     "execution_count": 69,
     "metadata": {},
     "output_type": "execute_result"
    }
   ],
   "source": [
    "# Crear y entrenar forecaster\n",
    "\n",
    "forecaster = ForecasterDirect(\n",
    "    regressor=Lasso(alpha= 1e-05, random_state=123),\n",
    "    transformer_y=StandardScaler(),\n",
    "    steps=150,\n",
    "    lags=5\n",
    "    )\n",
    "\n",
    "forecaster.fit(y=datos_train['Horas_Operativas'], exog=datos_train['Vibracion_mm_s'])\n",
    "\n",
    "forecaster"
   ]
  },
  {
   "cell_type": "code",
   "execution_count": 70,
   "metadata": {},
   "outputs": [],
   "source": [
    "# Predicciones\n",
    "\n",
    "predicciones = forecaster.predict(steps=steps, exog=datos_test['Vibracion_mm_s'])"
   ]
  },
  {
   "cell_type": "code",
   "execution_count": 71,
   "metadata": {},
   "outputs": [
    {
     "data": {
      "image/png": "[encoded data removed]",
      "text/plain": [
       "<Figure size 600x250 with 1 Axes>"
      ]
     },
     "metadata": {},
     "output_type": "display_data"
    }
   ],
   "source": [
    "# Predicciones\n",
    "\n",
    "predicciones = forecaster.predict(exog=datos_test['Vibracion_mm_s'])\n",
    "\n",
    "# Gráfico predicciones vs valores reales\n",
    "\n",
    "fig, ax = plt.subplots(figsize=(6, 2.5))\n",
    "datos_train['Horas_Operativas'].plot(ax=ax, label='train')\n",
    "datos_test['Horas_Operativas'].plot(ax=ax, label='test')\n",
    "predicciones.plot(ax=ax, label='predicciones')\n",
    "ax.legend();"
   ]
  },
  {
   "cell_type": "code",
   "execution_count": 72,
   "metadata": {},
   "outputs": [
    {
     "name": "stdout",
     "output_type": "stream",
     "text": [
      "Error de test (mse): 23421.017515818086\n",
      "Varianza de los valores reales: 12234.045861297536\n"
     ]
    }
   ],
   "source": [
    "# Error test\n",
    "error_mse = mean_squared_error(\n",
    "    y_true=datos_test['Horas_Operativas'],\n",
    "    y_pred=predicciones\n",
    ")\n",
    "\n",
    "# Varianza de los valores reales\n",
    "varianza = datos_test['Horas_Operativas'].var()\n",
    "\n",
    "print(f\"Error de test (mse): {error_mse}\")\n",
    "print(f\"Varianza de los valores reales: {varianza}\")"
   ]
  },
  {
   "cell_type": "code",
   "execution_count": 73,
   "metadata": {},
   "outputs": [
    {
     "name": "stdout",
     "output_type": "stream",
     "text": [
      "Information of folds\n",
      "--------------------\n",
      "Number of observations used for initial training: 1353\n",
      "Number of observations used for backtesting: 108\n",
      "    Number of folds: 2\n",
      "    Number skipped folds: 0 \n",
      "    Number of steps per fold: 60\n",
      "    Number of steps to exclude between last observed data (last window) and predictions (gap): 0\n",
      "    Last fold only includes 48 observations.\n",
      "\n",
      "Fold: 0\n",
      "    Training:   2021-01-01 00:00:00 -- 2024-09-14 00:00:00  (n=1353)\n",
      "    Validation: 2024-09-15 00:00:00 -- 2024-11-13 00:00:00  (n=60)\n",
      "Fold: 1\n",
      "    Training:   2021-01-01 00:00:00 -- 2024-11-13 00:00:00  (n=1413)\n",
      "    Validation: 2024-11-14 00:00:00 -- 2024-12-31 00:00:00  (n=48)\n",
      "\n"
     ]
    },
    {
     "data": {
      "application/vnd.jupyter.widget-view+json": {
       "model_id": "2c56c5d0b46348928405aa2b41a6285e",
       "version_major": 2,
       "version_minor": 0
      },
      "text/plain": [
       "  0%|          | 0/2 [00:00<?, ?it/s]"
      ]
     },
     "metadata": {},
     "output_type": "display_data"
    },
    {
     "data": {
      "application/vnd.microsoft.datawrangler.viewer.v0+json": {
       "columns": [
        {
         "name": "index",
         "rawType": "int64",
         "type": "integer"
        },
        {
         "name": "mean_squared_error",
         "rawType": "float64",
         "type": "float"
        }
       ],
       "conversionMethod": "pd.DataFrame",
       "ref": "2a64f063-bd54-40e2-9ecf-ade609e03f6c",
       "rows": [
        [
         "0",
         "18184.50630101369"
        ]
       ],
       "shape": {
        "columns": 1,
        "rows": 1
       }
      },
      "text/html": [
       "<div>\n",
       "<style scoped>\n",
       "    .dataframe tbody tr th:only-of-type {\n",
       "        vertical-align: middle;\n",
       "    }\n",
       "\n",
       "    .dataframe tbody tr th {\n",
       "        vertical-align: top;\n",
       "    }\n",
       "\n",
       "    .dataframe thead th {\n",
       "        text-align: right;\n",
       "    }\n",
       "</style>\n",
       "<table border=\"1\" class=\"dataframe\">\n",
       "  <thead>\n",
       "    <tr style=\"text-align: right;\">\n",
       "      <th></th>\n",
       "      <th>mean_squared_error</th>\n",
       "    </tr>\n",
       "  </thead>\n",
       "  <tbody>\n",
       "    <tr>\n",
       "      <th>0</th>\n",
       "      <td>18184.506301</td>\n",
       "    </tr>\n",
       "  </tbody>\n",
       "</table>\n",
       "</div>"
      ],
      "text/plain": [
       "   mean_squared_error\n",
       "0        18184.506301"
      ]
     },
     "execution_count": 73,
     "metadata": {},
     "output_type": "execute_result"
    }
   ],
   "source": [
    "# Backtesting\n",
    "\n",
    "cv = TimeSeriesFold(\n",
    "    steps=20 * 3,\n",
    "    initial_train_size=len(mantenimiento_df_1) - 12 * 9,\n",
    "    fixed_train_size=False,\n",
    "    refit=True,\n",
    ")\n",
    "\n",
    "metrica, predicciones_backtest = backtesting_forecaster(\n",
    "    forecaster=forecaster,\n",
    "    y=mantenimiento_df_1['Horas_Operativas'],\n",
    "    cv=cv,\n",
    "    metric='mean_squared_error',\n",
    "    verbose=True\n",
    ")\n",
    "metrica"
   ]
  },
  {
   "cell_type": "code",
   "execution_count": 74,
   "metadata": {},
   "outputs": [
    {
     "data": {
      "text/plain": [
       "<matplotlib.legend.Legend at 0x226a32de230>"
      ]
     },
     "execution_count": 74,
     "metadata": {},
     "output_type": "execute_result"
    },
    {
     "data": {
      "image/png": "[encoded data removed]",
      "text/plain": [
       "<Figure size 600x250 with 1 Axes>"
      ]
     },
     "metadata": {},
     "output_type": "display_data"
    }
   ],
   "source": [
    "# Gráfico de predicciones de backtest vs valores reales\n",
    "\n",
    "fig, ax = plt.subplots(figsize=(6, 2.5))\n",
    "mantenimiento_df_1.loc[predicciones_backtest.index, 'Horas_Operativas'].plot(ax=ax, label='test')\n",
    "predicciones_backtest.plot(ax=ax, label='predicciones')\n",
    "ax.legend()"
   ]
  },
  {
   "cell_type": "markdown",
   "metadata": {},
   "source": [
    "### Explorar"
   ]
  },
  {
   "cell_type": "code",
   "execution_count": null,
   "metadata": {},
   "outputs": [],
   "source": [
    "mantenimiento_df.shape"
   ]
  },
  {
   "cell_type": "code",
   "execution_count": null,
   "metadata": {},
   "outputs": [],
   "source": [
    "mantenimiento_df.describe()"
   ]
  },
  {
   "cell_type": "code",
   "execution_count": null,
   "metadata": {},
   "outputs": [],
   "source": [
    "mantenimiento_df.describe(include=object)"
   ]
  },
  {
   "cell_type": "code",
   "execution_count": null,
   "metadata": {},
   "outputs": [],
   "source": [
    "mantenimiento_df.info()"
   ]
  },
  {
   "cell_type": "markdown",
   "metadata": {},
   "source": [
    "### Valores faltantes"
   ]
  },
  {
   "cell_type": "code",
   "execution_count": null,
   "metadata": {},
   "outputs": [],
   "source": [
    "# Datos vacios\n",
    "print('Datos vacios en mantenimiento\\n',mantenimiento_df.isna().sum())"
   ]
  },
  {
   "cell_type": "code",
   "execution_count": null,
   "metadata": {},
   "outputs": [],
   "source": [
    "# Rellenar valores faltantes en columnas numéricas con la media\n",
    "numerical_columns = mantenimiento_df.select_dtypes(include=['float64', 'int64']).columns\n",
    "mantenimiento_df[numerical_columns] = mantenimiento_df[numerical_columns].fillna(mantenimiento_df[numerical_columns].mean())\n",
    "\n",
    "# Rellenar valores faltantes en columnas categóricas con la moda\n",
    "categorical_columns = mantenimiento_df.select_dtypes(include=['object']).columns\n",
    "for column in categorical_columns:\n",
    "    mantenimiento_df[column] = mantenimiento_df[column].fillna(mantenimiento_df[column].mode()[0])\n",
    "\n",
    "mantenimiento_df.info()"
   ]
  },
  {
   "cell_type": "code",
   "execution_count": null,
   "metadata": {},
   "outputs": [],
   "source": [
    "# Mostrar las filas que tienen valores vacíos\n",
    "filas_vacias = mantenimiento_df[mantenimiento_df.isna().any(axis=1)]\n",
    "filas_vacias"
   ]
  },
  {
   "cell_type": "markdown",
   "metadata": {},
   "source": [
    "### Outliers"
   ]
  },
  {
   "cell_type": "code",
   "execution_count": null,
   "metadata": {},
   "outputs": [],
   "source": [
    "# Extraer columnas numéricas y categóricas\n",
    "from sklearn.compose import make_column_selector as selector\n",
    "\n",
    "numerical_columns_selector = selector(dtype_exclude=object)\n",
    "categorical_columns_selector = selector(dtype_include=object)\n",
    "\n",
    "numerical_columns = numerical_columns_selector(mantenimiento_df)\n",
    "categorical_columns = categorical_columns_selector(mantenimiento_df)\n",
    "\n",
    "print(headr(\"Numerical columns\"), numerical_columns)\n",
    "print(headr(\"Categorical columns\"), categorical_columns)"
   ]
  },
  {
   "cell_type": "code",
   "execution_count": null,
   "metadata": {},
   "outputs": [],
   "source": [
    "# Outliers\n",
    "\n",
    "# identificación\n",
    "IQR = mantenimiento_df[numerical_columns].quantile(0.75) - mantenimiento_df[numerical_columns].quantile(0.25)\n",
    "lower_bound = mantenimiento_df[numerical_columns].quantile(0.25) - (IQR * 3)\n",
    "upper_bound = mantenimiento_df[numerical_columns].quantile(0.75) + (IQR * 3)\n",
    "\n",
    "print(headr('lower_bound'),lower_bound)\n",
    "print(headr('upper_bound'),upper_bound)\n",
    "\n",
    "outliers = mantenimiento_df[numerical_columns][(mantenimiento_df[numerical_columns] < lower_bound) | (mantenimiento_df[numerical_columns] > upper_bound)]\n",
    "\n",
    "print(headr(\"Outliers:\"))\n",
    "outliers.count()"
   ]
  },
  {
   "cell_type": "markdown",
   "metadata": {},
   "source": [
    "### Duplicados"
   ]
  },
  {
   "cell_type": "code",
   "execution_count": null,
   "metadata": {},
   "outputs": [],
   "source": [
    "# Mostrar todas las filas duplicadas\n",
    "print('\\nSumatorio duplicados en mantenimiento', mantenimiento_df.duplicated().sum())\n",
    "mantenimiento_df[mantenimiento_df.duplicated(keep=False)]"
   ]
  },
  {
   "cell_type": "markdown",
   "metadata": {},
   "source": [
    "### Tratamiento tipo de columnas"
   ]
  },
  {
   "cell_type": "code",
   "execution_count": null,
   "metadata": {},
   "outputs": [],
   "source": [
    "# Extraer columnas numéricas y categóricas\n",
    "from sklearn.compose import make_column_selector as selector\n",
    "\n",
    "numerical_columns_selector = selector(dtype_exclude=object)\n",
    "categorical_columns_selector = selector(dtype_include=object)\n",
    "\n",
    "numerical_columns = numerical_columns_selector(mantenimiento_df)\n",
    "categorical_columns = categorical_columns_selector(mantenimiento_df)\n",
    "\n",
    "print(headr(\"Numerical columns\"), numerical_columns)\n",
    "print(headr(\"Categorical columns\"), categorical_columns)"
   ]
  },
  {
   "cell_type": "code",
   "execution_count": null,
   "metadata": {},
   "outputs": [],
   "source": [
    "# Transformamos columnas categoricas en valores numéricos\n",
    "\n",
    "from sklearn.preprocessing import LabelEncoder\n",
    "\n",
    "mantenimiento_dff = mantenimiento_df.copy()\n",
    "mantenimiento_dff[categorical_columns] = mantenimiento_dff[categorical_columns].apply(LabelEncoder().fit_transform)   \n",
    "mantenimiento_dff.head()"
   ]
  },
  {
   "cell_type": "markdown",
   "metadata": {},
   "source": [
    "### Seleccionamos características más relevantes"
   ]
  },
  {
   "cell_type": "code",
   "execution_count": null,
   "metadata": {},
   "outputs": [],
   "source": [
    "# Evaluamos la aportación de cada columna\n",
    "from sklearn.feature_selection import SelectKBest\n",
    "from sklearn.feature_selection import f_classif\n",
    "\n",
    "X= mantenimiento_dff.drop(target_column, axis=1)\n",
    "y = mantenimiento_dff[target_column]\n",
    "\n",
    "fvalue_selector = SelectKBest(f_classif, k=2)\n",
    "\n",
    "X_kbest = fvalue_selector.fit(X,y)\n",
    "\n",
    "feature_scores = pd.DataFrame({\"Feature\": X.columns,\"Score\": X_kbest.scores_}).sort_values(by=\"Score\", ascending=False)\n",
    "\n",
    "print(headr(\"Feature scores\"))\n",
    "round(feature_scores,2)"
   ]
  },
  {
   "cell_type": "code",
   "execution_count": null,
   "metadata": {},
   "outputs": [],
   "source": [
    "# Seleccionar las 5 características más relevantes\n",
    "top_features = feature_scores.head(9)['Feature']\n",
    "X_selected = X[top_features]\n",
    "\n",
    "print(\"Características seleccionadas:\")\n",
    "print(top_features)\n"
   ]
  },
  {
   "cell_type": "code",
   "execution_count": null,
   "metadata": {},
   "outputs": [],
   "source": [
    "# Seleccionar las columnas más relevantes y la columna target_column\n",
    "relevant_columns = top_features.tolist() + [target_column]\n",
    "\n",
    "# Actualizar mantenimiento_const con las columnas seleccionadas\n",
    "mantenimiento_const = mantenimiento_dff[relevant_columns]\n",
    "\n",
    "# Mostrar las primeras filas del DataFrame actualizado\n",
    "mantenimiento_const.head()"
   ]
  },
  {
   "cell_type": "code",
   "execution_count": null,
   "metadata": {},
   "outputs": [],
   "source": [
    "# Ver proporciones nuevamente\n",
    "\n",
    "# import matplotlib.pyplot as plt\n",
    "# import seaborn as sns\n",
    "\n",
    "# %matplotlib inline\n",
    "\n",
    "\n",
    "# features = X.columns\n",
    "# num_features = len(features)\n",
    "\n",
    "# for i, feature in enumerate(features):\n",
    "#     print(headr(f\"Graficando: {feature}\"))\n",
    "#     sns.barplot(x=feature, y=target_column, data=mantenimiento_dff)\n",
    "#     plt.title(f\"Tasa de {target_column} por {feature}\")\n",
    "#     plt.xlabel(feature)\n",
    "#     plt.ylabel(target_column)\n",
    "#     plt.show()"
   ]
  },
  {
   "cell_type": "markdown",
   "metadata": {},
   "source": [
    "### Eliminar características constantes"
   ]
  },
  {
   "cell_type": "code",
   "execution_count": null,
   "metadata": {},
   "outputs": [],
   "source": [
    "# Calcular la varianza de cada columna\n",
    "column_variances = X.var()\n",
    "\n",
    "# Crear un DataFrame para visualizar mejor los resultados\n",
    "variance_df = pd.DataFrame({\n",
    "    \"Feature\": column_variances.index,\n",
    "    \"Variance\": column_variances.values\n",
    "}).sort_values(by=\"Variance\", ascending=False)\n",
    "\n",
    "# Mostrar las varianzas ordenadas de mayor a menor\n",
    "print(\"Varianza de cada columna:\")\n",
    "print(variance_df)"
   ]
  },
  {
   "cell_type": "code",
   "execution_count": null,
   "metadata": {},
   "outputs": [],
   "source": [
    "# # Seleccionar características con varianza mayor a 5 o el valor que se desee, excluyendo target_column\n",
    "\n",
    "# from sklearn.feature_selection import VarianceThreshold\n",
    "\n",
    "\n",
    "# # Aplicar VarianceThreshold\n",
    "# sel = VarianceThreshold(threshold=5)\n",
    "# sel.fit(X)\n",
    "\n",
    "# # Obtener las columnas que no son constantes\n",
    "# no_constant_columns = X.columns[sel.get_support()]\n",
    "# constant_columns = X.columns.drop(no_constant_columns)\n",
    "\n",
    "# print(headr(\"Columnas constantes:\"), constant_columns)\n",
    "\n",
    "# # Actualizar mantenimiento_const excluyendo las columnas constantes, pero manteniendo target_column\n",
    "# mantenimiento_const = mantenimiento_const.drop(columns=[col for col in constant_columns if col != target_column])\n",
    "# print(headr(\"Columnas finales:\"), mantenimiento_const.columns)"
   ]
  },
  {
   "cell_type": "markdown",
   "metadata": {},
   "source": [
    "### Separamos el target"
   ]
  },
  {
   "cell_type": "code",
   "execution_count": null,
   "metadata": {},
   "outputs": [],
   "source": [
    "# Separar características y target\n",
    "X = mantenimiento_const.drop(target_column, axis=1)     #df_mantenimiento.drop(target_column, axis=1)\n",
    "y = mantenimiento_const[target_column] # Se coje el target"
   ]
  },
  {
   "cell_type": "code",
   "execution_count": null,
   "metadata": {},
   "outputs": [],
   "source": [
    "X.shape"
   ]
  },
  {
   "cell_type": "markdown",
   "metadata": {},
   "source": [
    "### Preparar para entrenamiento"
   ]
  },
  {
   "cell_type": "code",
   "execution_count": null,
   "metadata": {},
   "outputs": [],
   "source": [
    "# Dividir en entrenamiento y prueba\n",
    "from sklearn.model_selection import train_test_split\n",
    "\n",
    "X_train, X_test, y_train, y_test = train_test_split(X, y, test_size=0.2, random_state=42)"
   ]
  },
  {
   "cell_type": "code",
   "execution_count": null,
   "metadata": {},
   "outputs": [],
   "source": [
    "print(\"Tamaño de X_train:\", X_train.shape)\n",
    "print(\"Tamaño de X_test:\", X_test.shape)\n",
    "print(\"Tamaño de y_train:\", y_train.shape)\n",
    "print(\"Tamaño de y_test:\", y_test.shape)"
   ]
  },
  {
   "cell_type": "markdown",
   "metadata": {},
   "source": [
    "## Candidatos"
   ]
  },
  {
   "cell_type": "markdown",
   "metadata": {},
   "source": [
    "A partir del análisis previo:\n",
    "\n",
    "1. `LogisticRegression`\n",
    "2. `RandomForestClassifier` \n",
    "3. `DecisionTreeClassifier`\n",
    "4. `KNeighborsClassifier`"
   ]
  },
  {
   "cell_type": "markdown",
   "metadata": {},
   "source": [
    "### Piplines"
   ]
  },
  {
   "cell_type": "code",
   "execution_count": null,
   "metadata": {},
   "outputs": [],
   "source": [
    "numerical_columns_selector = selector(dtype_exclude=object)\n",
    "categorical_columns_selector = selector(dtype_include=object)\n",
    "\n",
    "numerical_columns = numerical_columns_selector(X)\n",
    "categorical_columns = categorical_columns_selector(X)\n",
    "\n",
    "print(headr(\"Numerical columns\"), numerical_columns)\n",
    "print(headr(\"Categorical columns\"), categorical_columns)"
   ]
  },
  {
   "cell_type": "code",
   "execution_count": null,
   "metadata": {},
   "outputs": [],
   "source": [
    "preprocessor = ColumnTransformer(\n",
    "    [\n",
    "        ('numerical', StandardScaler(), numerical_columns),\n",
    "        ('categorical', OneHotEncoder(), categorical_columns)\n",
    "    ])\n",
    "\n",
    "pipelines = {\n",
    "    \"LogisticRegression\": Pipeline([('preprocessor', preprocessor),('classifier', LogisticRegression())]),\n",
    "    \"RandomForestClassifier\": Pipeline([('preprocessor', preprocessor),('classifier', RandomForestClassifier())]),\n",
    "    \"DecisionTreeClassifier\": Pipeline([('preprocessor', preprocessor),('classifier', DecisionTreeClassifier())]),\n",
    "    \"KNeighborsClassifier\": Pipeline([('preprocessor', preprocessor),('classifier', KNeighborsClassifier(n_neighbors=2, metric= 'euclidean', weights= 'distance'))]),\n",
    "    #\"SVC\": Pipeline([('preprocessor', preprocessor),('classifier', SVC())]),\n",
    "    #\"GradientBoostingClassifier\": Pipeline([('preprocessor', preprocessor),('classifier', GradientBoostingClassifier(n_estimators=500))]),\n",
    " \n",
    "}"
   ]
  },
  {
   "cell_type": "markdown",
   "metadata": {},
   "source": [
    "### CV"
   ]
  },
  {
   "cell_type": "code",
   "execution_count": null,
   "metadata": {},
   "outputs": [],
   "source": [
    "def cv_train(name, pipeline, cv):\n",
    "    print(headr(f\"Entrenar {name}\"))\n",
    "    cv_results = cross_validate(pipeline, X_train, y_train, cv=cv, scoring=\"accuracy\", return_estimator=True, return_train_score=True)\n",
    "    trained_model = cv_results[\"estimator\"][0]\n",
    "    scores = pd.DataFrame(cv_results)\n",
    "\n",
    "    print(\"test score (mean-std): {0:.2f} - {1:.2f}\".format(scores[\"test_score\"].mean(), scores[\"test_score\"].std()))\n",
    "    print(\"train score (mean-std): {0:.2f} - {1:.2f}\".format(scores[\"train_score\"].mean(), scores[\"train_score\"].std()))\n",
    "    print(\"params:\", pipeline.named_steps.get(\"classifier\").get_params())\n",
    "\n",
    "    y_pred = trained_model.predict(X_test)\n",
    "    f1 = f1_score(y_test, y_pred) #\n",
    "\n",
    "    return {\"acc\": round(scores[\"test_score\"].mean(), 2), \"f1\": round(f1, 2),}"
   ]
  },
  {
   "cell_type": "code",
   "execution_count": null,
   "metadata": {},
   "outputs": [],
   "source": [
    "cvss = ShuffleSplit(n_splits=5, test_size=0.2, random_state=42)\n",
    "\n",
    "results = {}\n",
    "\n",
    "for name, pipeline in pipelines.items():\n",
    "    results[name] = cv_train(name, pipeline, cvss)\n",
    "\n",
    "print(headr(\"Resultados:\"))\n",
    "results_df=pd.DataFrame(results)\n",
    "results_df"
   ]
  },
  {
   "cell_type": "markdown",
   "metadata": {},
   "source": [
    "### Curva de aprendizaje"
   ]
  },
  {
   "cell_type": "code",
   "execution_count": null,
   "metadata": {},
   "outputs": [],
   "source": [
    "import matplotlib.pyplot as plt\n",
    "from sklearn.model_selection import learning_curve, validation_curve\n"
   ]
  },
  {
   "cell_type": "code",
   "execution_count": null,
   "metadata": {},
   "outputs": [],
   "source": [
    "# Curvas de aprendizaje\n",
    "\n",
    "train_sizes = np.linspace(0.1, 1.0, num=5, endpoint=True)\n",
    "\n",
    "def generate_learning_curves(name, pipeline, X, y, train_sizes):\n",
    "    results = learning_curve(pipeline, X, y, train_sizes=train_sizes,\n",
    "                             cv=cvss, scoring='accuracy')\n",
    "    \n",
    "    train_size, train_scores, test_scores = results[:3]\n",
    "\n",
    "    # graficar la curva.\n",
    "    plt.errorbar(train_size, train_scores.mean(axis=1),\n",
    "                 yerr=train_scores.std(axis=1), label=\"Accuracy de entrenamiento\", color='blue', linestyle='--', marker=None)\n",
    "    plt.errorbar(train_size, test_scores.mean(axis=1),\n",
    "                 yerr=test_scores.std(axis=1), label=\"Accuracy de prueba\", color='red', linestyle='-', marker=None)\n",
    "    \n",
    "    # Posicionar la leyenda en el centro a la derecha\n",
    "    plt.legend(loc='lower right')\n",
    "\n",
    "    plt.xscale(\"linear\")\n",
    "    plt.xlabel(\"Número de muestras en el conjunto de entrenamiento\")\n",
    "    plt.ylabel(\"Accuracy\")\n",
    "    plt.title(\"Curva de aprendizaje para {name}\".format(name=name))\n",
    "    \n",
    "    # Ajusta según el rango esperado de los valores\n",
    "    plt.ylim(0, 1)\n",
    "    \n",
    "    \n",
    "   \n",
    "\n",
    "    plt.show()"
   ]
  },
  {
   "cell_type": "code",
   "execution_count": null,
   "metadata": {},
   "outputs": [],
   "source": [
    "# Mostramos gráficas\n",
    "\n",
    "for pipeline_name, pipeline_obj in pipelines.items():\n",
    "    generate_learning_curves(pipeline_name, pipeline_obj, X, y, train_sizes)"
   ]
  },
  {
   "cell_type": "markdown",
   "metadata": {},
   "source": [
    "### Curva validación"
   ]
  },
  {
   "cell_type": "code",
   "execution_count": null,
   "metadata": {},
   "outputs": [],
   "source": [
    "\n",
    "# Curvas de validación\n",
    "\n",
    "def generate_validation_curves(name, pipeline, X, y, param_name, param_range):\n",
    "    train_scores, test_scores = validation_curve(\n",
    "        pipeline, X, y, param_name=param_name, param_range=param_range,\n",
    "        cv=cvss, scoring=\"accuracy\")\n",
    "\n",
    "    # graficar la curva.\n",
    "    plt.plot(param_range, train_scores.mean(\n",
    "        axis=1), label=\"Error de entrenamiento\", color='blue', linestyle='--')\n",
    "    plt.plot(param_range, test_scores.mean(axis=1), label=\"Error de prueba\", color='red', linestyle='-')\n",
    "    plt.legend()\n",
    "\n",
    "    plt.xlabel(\"Valor del ({param_name})\".format(\n",
    "        param_name=param_name))\n",
    "    plt.ylabel(\"Accuracy\")\n",
    "    plt.title(\"Curva de validación para {name}\".format(name=name))\n",
    "    plt.ylim(0, 2)  # Ajusta según el rango esperado de los valores\n",
    "\n",
    "    plt.show()\n"
   ]
  },
  {
   "cell_type": "code",
   "execution_count": null,
   "metadata": {},
   "outputs": [],
   "source": [
    "# Mostramos gráficas\n",
    "\n",
    "pname = 'LogisticRegression'\n",
    "Cs = [0.1, 10, 20]\n",
    "generate_validation_curves(pname, pipelines[pname], X, y, 'classifier__C', Cs)"
   ]
  },
  {
   "cell_type": "code",
   "execution_count": null,
   "metadata": {},
   "outputs": [],
   "source": [
    "pname = 'RandomForestClassifier'\n",
    "min_samples_split = [1, 0.1, 0.01, 0.001]\n",
    "generate_validation_curves(pname, pipelines[pname], X, y, 'classifier__min_samples_split', min_samples_split)"
   ]
  },
  {
   "cell_type": "code",
   "execution_count": null,
   "metadata": {},
   "outputs": [],
   "source": [
    "pname = 'DecisionTreeClassifier'\n",
    "max_depth = [1,5,10,150]\n",
    "generate_validation_curves(pname, pipelines[pname], X, y, 'classifier__max_depth', max_depth)"
   ]
  },
  {
   "cell_type": "code",
   "execution_count": null,
   "metadata": {},
   "outputs": [],
   "source": [
    "pname = 'KNeighborsClassifier'\n",
    "n_neighbors = [1, 5, 10, 15, 20]\n",
    "generate_validation_curves(pname, pipelines[pname], X, y, 'classifier__n_neighbors', n_neighbors)"
   ]
  },
  {
   "cell_type": "markdown",
   "metadata": {},
   "source": [
    "### Afinar hiperparámentros"
   ]
  },
  {
   "cell_type": "code",
   "execution_count": null,
   "metadata": {},
   "outputs": [],
   "source": [
    "from sklearn.model_selection import GridSearchCV\n",
    "\n",
    "pname = 'LogisticRegression'\n",
    "\n",
    "param_grid = {\n",
    "    'classifier__C': [7.5, 50, 70],\n",
    "    'classifier__penalty': ['l1', 'l2'],\n",
    "    'classifier__solver': ['lbfgs', 'liblinear', 'newton-cg', 'newton-cholesky', 'sag, saga']\n",
    "}\n",
    "\n",
    "grid_search = GridSearchCV(\n",
    "    pipelines[pname], param_grid, cv=cvss, scoring=\"accuracy\")\n",
    "\n",
    "grid_search.fit(X_train, y_train)\n",
    "\n",
    "print(headr(pname))\n",
    "print(\"Mejores hiperparámetros:\", grid_search.best_params_)\n",
    "print(f\"Mejor accuracy: {grid_search.best_score_:.2f}\")"
   ]
  },
  {
   "cell_type": "code",
   "execution_count": null,
   "metadata": {},
   "outputs": [],
   "source": [
    "from sklearn.model_selection import GridSearchCV\n",
    "\n",
    "pname = 'RandomForestClassifier'\n",
    "\n",
    "param_grid = {\n",
    "    'classifier__n_estimators': [50, 70, 120],\n",
    "    'classifier__min_samples_split': [0.1, 0.01, 0.001]\n",
    "}\n",
    "\n",
    "grid_search = GridSearchCV(\n",
    "    pipelines[pname], param_grid, cv=cvss, scoring=\"accuracy\")\n",
    "\n",
    "grid_search.fit(X_train, y_train)\n",
    "\n",
    "print(headr(pname))\n",
    "print(\"Mejores hiperparámetros:\", grid_search.best_params_)\n",
    "print(f\"Mejor accuracy: {grid_search.best_score_:.2f}\")"
   ]
  },
  {
   "cell_type": "code",
   "execution_count": null,
   "metadata": {},
   "outputs": [],
   "source": [
    "from sklearn.model_selection import GridSearchCV\n",
    "\n",
    "pname = 'DecisionTreeClassifier'\n",
    "\n",
    "param_grid = {\n",
    "    'classifier__criterion': ['gini', 'entropy', 'log_loss'],\n",
    "    'classifier__min_samples_split': [0.5, 1.5, 2, 3]\n",
    "}\n",
    "\n",
    "grid_search = GridSearchCV(\n",
    "    pipelines[pname], param_grid, cv=cvss, scoring=\"accuracy\")\n",
    "\n",
    "grid_search.fit(X_train, y_train)\n",
    "\n",
    "print(headr(pname))\n",
    "print(\"Mejores hiperparámetros:\", grid_search.best_params_)\n",
    "print(f\"Mejor accuracy: {grid_search.best_score_:.2f}\")"
   ]
  },
  {
   "cell_type": "code",
   "execution_count": null,
   "metadata": {},
   "outputs": [],
   "source": [
    "from sklearn.model_selection import GridSearchCV\n",
    "\n",
    "pname = 'KNeighborsClassifier'\n",
    "\n",
    "param_grid = {\n",
    "    'classifier__n_neighbors': [0, 2, 5, 7],\n",
    "    'classifier__metric': ['euclidean', 'manhattan', 'chebyshev', 'minkowski'],\n",
    "    'classifier__weights': ['uniform', 'distance']\n",
    "}\n",
    "\n",
    "grid_search = GridSearchCV(\n",
    "    pipelines[pname], param_grid, cv=cvss, scoring=\"accuracy\")\n",
    "\n",
    "grid_search.fit(X_train, y_train)\n",
    "\n",
    "print(headr(pname))\n",
    "print(\"Mejores hiperparámetros:\", grid_search.best_params_)\n",
    "print(f\"Mejor accuracy: {grid_search.best_score_:.2f}\")"
   ]
  },
  {
   "cell_type": "markdown",
   "metadata": {},
   "source": [
    "### re-entrenar + re-evaluar"
   ]
  },
  {
   "cell_type": "code",
   "execution_count": null,
   "metadata": {},
   "outputs": [],
   "source": [
    "preprocessor = ColumnTransformer(\n",
    "    [\n",
    "        ('numerical', StandardScaler(), numerical_columns),\n",
    "        ('categorical', OneHotEncoder(), categorical_columns)\n",
    "    ])\n",
    "\n",
    "pipelines = {\n",
    "    \"LogisticRegression\": Pipeline([('preprocessor', preprocessor),('classifier', LogisticRegression(C=7.5,penalty='l2',solver='newton-cg'))]),\n",
    "    \"RandomForestClassifier\": Pipeline([('preprocessor', preprocessor),('classifier', RandomForestClassifier(min_samples_split= 2, n_estimators= 100))]),\n",
    "    \"DecisionTreeClassifier\": Pipeline([('preprocessor', preprocessor),('classifier', DecisionTreeClassifier(criterion='gini',min_samples_leaf=2))]),\n",
    "    \"KNeighborsClassifier\": Pipeline([('preprocessor', preprocessor),('classifier', KNeighborsClassifier(n_neighbors=2, metric= 'euclidean', weights= 'distance'))]),\n",
    " }"
   ]
  },
  {
   "cell_type": "code",
   "execution_count": null,
   "metadata": {},
   "outputs": [],
   "source": [
    "results_final = {}\n",
    "\n",
    "for name, pipeline in pipelines.items():\n",
    "    results_final[name] = cv_train(name, pipeline, cvss)"
   ]
  },
  {
   "cell_type": "markdown",
   "metadata": {},
   "source": [
    "## Resumen del Notebook"
   ]
  },
  {
   "cell_type": "markdown",
   "metadata": {},
   "source": [
    "Este notebook realiza un análisis completo de datos relacionados con el mantenimiento de equipos, desde la preparación de los datos hasta la evaluación de modelos de clasificación.\n",
    "A continuación, se resume cada sección:\n",
    "\n",
    "1. **Carga y preparación de datos**\n",
    "Se importan librerías necesarias y herramientas de scikit-learn.\n",
    "Se cargan varios archivos CSV relacionados con características de equipos, históricos de órdenes y registros de condiciones.\n",
    "Se procesan los datos:\n",
    "Se eliminan columnas irrelevantes.\n",
    "Se convierten índices a formato de fecha.\n",
    "Se agrupan y combinan los datos en un único DataFrame (merged_df).\n",
    "Se añaden nuevas características como frecuencias de mantenimiento correctivo, preventivo, por ubicación y potencia.\n",
    "\n",
    "2. **Limpieza de datos**\n",
    "Se verifican y rellenan valores faltantes.\n",
    "Se eliminan duplicados.\n",
    "Se verifican outliers.\n",
    "Se transforman columnas categóricas en valores numéricos usando LabelEncoder.\n",
    "\n",
    "3. **Selección de características**\n",
    "Se evalúa la importancia de las características utilizando SelectKBest y se seleccionan las más relevantes.\n",
    "Se eliminan características con baja varianza.\n",
    "\n",
    "4. **División de datos**\n",
    "Se separan los datos en características (X) y la variable objetivo (y), que es el tipo de mantenimiento.\n",
    "Se dividen los datos en conjuntos de entrenamiento y prueba (80%-20%).\n",
    "\n",
    "5. **Modelos candidatos**\n",
    "Se definen cuatro modelos de clasificación como candidatos:\n",
    "LogisticRegression\n",
    "RandomForestClassifier\n",
    "DecisionTreeClassifier\n",
    "KNeighborsClassifier\n",
    "Se crean pipelines para cada modelo, incluyendo preprocesamiento (escalado y codificación).\n",
    "\n",
    "6. **Evaluación inicial**\n",
    "Se realiza validación cruzada para evaluar el desempeño de cada modelo en términos de precisión (accuracy) y puntaje F1.\n",
    "Se generan curvas de aprendizaje para analizar el comportamiento de los modelos con diferentes tamaños de datos de entrenamiento.\n",
    "\n",
    "7. **Curvas de validación**\n",
    "Se generan curvas de validación para ajustar hiperparámetros clave de los modelos, como C para regresión logística, min_samples_split para Random Forest, y otros.\n",
    "\n",
    "8. **Afinación de hiperparámetros**\n",
    "Se utiliza GridSearchCV para buscar los mejores hiperparámetros para cada modelo.\n",
    "\n",
    "9. **Reentrenamiento y evaluación final**\n",
    "Los modelos se reentrenan con los mejores hiperparámetros encontrados.\n",
    "Se evalúan nuevamente para comparar su desempeño final.\n",
    "\n",
    "**Resultados**\n",
    "\n",
    "El notebook permite identificar el modelo con mejor desempeño basado en las métricas de validación cruzada y las curvas de aprendizaje.\n",
    "Los modelos DecisionTreeClassifier y KNeighborsClassifier parecen tener un desempeño destacado en las evaluaciones iniciales.\n",
    "En resumen, este notebook realiza un flujo completo de análisis de datos, selección de características, entrenamiento y evaluación de modelos de clasificación para predecir el tipo de mantenimiento de equipos."
   ]
  },
  {
   "cell_type": "markdown",
   "metadata": {},
   "source": [
    "## Conclusiones y elección de MODELO"
   ]
  },
  {
   "cell_type": "markdown",
   "metadata": {},
   "source": [
    "**Resumen y elección del modelo**\n",
    "\n",
    "1. Logistic Regression:\n",
    "\n",
    "- Curva de aprendizaje: La accuracy de entrenamiento y prueba se mantienen constantes alrededor de 0.63, indicando que el modelo no mejora con más datos de entrenamiento.\n",
    "\n",
    "    Conclusión: Este modelo está subajustado, ya que no alcanza el objetivo de accuracy ≥ 0.80 ni el f1 ≥ 0.75.\n",
    "\n",
    "2. Random Forest Classifier:\n",
    "\n",
    "- Curva de aprendizaje: La accuracy de prueba aumenta con más datos de entrenamiento, acercándose a la accuracy de entrenamiento.\n",
    "\n",
    "    Conclusión: Este modelo muestra una tendencia positiva y es menos propenso al sobreajuste debido a su capacidad de generalización. Cumple con los objetivos de accuracy y f1.\n",
    "\n",
    "3. Decision Tree Classifier:\n",
    "\n",
    "- Curva de aprendizaje: La accuracy de entrenamiento es alta, pero puede haber una diferencia significativa con la accuracy de prueba, indicando posible sobreajuste.\n",
    "\n",
    "    Conclusión: Aunque cumple con los objetivos de accuracy y f1, puede ser más propenso al sobreajuste comparado con Random Forest.\n",
    "\n",
    "4. K-Neighbors Classifier:\n",
    "\n",
    "- Curva de aprendizaje: Similar a Random Forest, muestra una mejora en la accuracy de prueba con más datos de entrenamiento.\n",
    "\n",
    "    Conclusión: Este modelo también cumple con los objetivos de accuracy y f1 y tiene una buena capacidad de generalización.\n",
    "\n",
    "\n",
    "Recomendación de Modelos:\n",
    "\n",
    "1. Random Forest Classifier:\n",
    "\n",
    "    Ventajas: Alta accuracy y f1, buena capacidad de generalización, menos propenso al sobreajuste.\n",
    "Coste Computacional: Moderado a alto, debido a la complejidad del modelo y el número de árboles.\n",
    "\n",
    "2. K-Neighbors Classifier:\n",
    "\n",
    "    Ventajas: Alta accuracy y f1, buena capacidad de generalización.\n",
    "Coste Computacional: Alto, especialmente en la fase de predicción, ya que requiere calcular distancias para cada muestra.\n",
    "\n",
    "3. Decision Tree Classifier:\n",
    "\n",
    "    Ventajas: Alta accuracy y f1, fácil de interpretar.\n",
    "Coste Computacional: Bajo a moderado, pero puede ser más propenso al sobreajuste.\n",
    "\n",
    "### Conclusión:\n",
    "\n",
    "Para cumplir con los objetivos de accuracy ≥ 0.80 y f1 ≥ 0.75, elijo el **Random Forest Classifier** debido a su buen desempeño y capacidad de generalización. Si el coste computacional es una preocupación, el Decision Tree Classifier puede ser una opción viable, aunque se debe estar atento al posible sobreajuste. El K-Neighbors Classifier también es una buena opción, pero su coste computacional hay que tenerlo en cuenta en la fase de predicción."
   ]
  }
 ],
 "metadata": {
  "kernelspec": {
   "display_name": "Python 3",
   "language": "python",
   "name": "python3"
  },
  "language_info": {
   "codemirror_mode": {
    "name": "ipython",
    "version": 3
   },
   "file_extension": ".py",
   "mimetype": "text/x-python",
   "name": "python",
   "nbconvert_exporter": "python",
   "pygments_lexer": "ipython3",
   "version": "3.10.11"
  }
 },
 "nbformat": 4,
 "nbformat_minor": 2
}
